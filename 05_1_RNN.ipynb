{
 "cells": [
  {
   "cell_type": "markdown",
   "metadata": {},
   "source": [
    "# RNN NETWORKS"
   ]
  },
  {
   "cell_type": "markdown",
   "metadata": {},
   "source": [
    "# RNN"
   ]
  },
  {
   "cell_type": "markdown",
   "metadata": {},
   "source": [
    "**RNN(Recurrent Neural Network):**\n",
    "\n",
    "- A Recurrent Neural Network is a specialy type of ANN(Artificial Neural Network) that has the ability to remember the past incidents due to its internal memory feature in its architecture.\n",
    "\n",
    "- In the conventional ANN the inputs and outputs are independent of each other but here in this case of RNN the outputs are **dependent on the previous elements in a sequence of text.**\n",
    "\n",
    "- For eg: If we have a neuron I0 having A, I1 as boy then this will help to predict the next appropriate word in the sequence.\n",
    "\n",
    "<figure>\n",
    "<img src= \"./res/05_1_rnn.jpg\" style=\"width:100%\">\n",
    "<figcaption align = \"center\"><b>Fig.1 -  RNN Network Architecture</b></figcaption>\n",
    "</figure>\n"
   ]
  },
  {
   "cell_type": "markdown",
   "metadata": {},
   "source": [
    "Now lets see how the RNN network works."
   ]
  },
  {
   "cell_type": "markdown",
   "metadata": {},
   "source": [
    "# WORKING OF RNN"
   ]
  },
  {
   "cell_type": "markdown",
   "metadata": {},
   "source": [
    "- In RNN network the information cycles as a loop between states so the outputs here is dependent on the previous inputs.\n",
    "\n",
    "- For eg: For a neural network there is an input X and and that input is then passed into a middle hidden layer A which will have lots of weights, biases and activation functions in it.\n",
    "\n",
    "- Here in this case the parameters are standaradized (i.e.,) the parameters are made to be the same as all over the layer in the network.\n",
    "\n",
    "- The parameters are standardized because by this there is no need to create multiple layers instead a single layer can be iterated multiple times.\n",
    "\n",
    "<figure>\n",
    "<img src= \"./res/05_3_rnn_work.png\" style=\"width:100%\">\n",
    "<figcaption align = \"center\"><b>Fig.3 -  RNN Working Architecture</b></figcaption>\n",
    "</figure>"
   ]
  },
  {
   "cell_type": "markdown",
   "metadata": {},
   "source": [
    "## BACKPROPAGATION IN RNN"
   ]
  },
  {
   "cell_type": "markdown",
   "metadata": {},
   "source": [
    "- Unlike the traditional backpropagation in ANN, here RNN uses a special type of backpropagation in **time domain** called **backpropagation through time(BPTT)**.\n",
    "\n",
    "**BPTT:**\n",
    "\n",
    "- It is slightly different from traditional backpropagation as this backpropagation is specific to sequence data.\n",
    "\n",
    "- The principles of backpropagation through time is the same as traditional propagation where the model calculates error from the output layer to input layer and updates the wi=eights and biases accordingly.\n",
    "\n",
    " - The difference is that in RNN BPTT **sums the error at each timestep** while in FFNN they do not need to sum the error at each timestep because they do not share information throughout the network"
   ]
  },
  {
   "cell_type": "markdown",
   "metadata": {},
   "source": [
    "# TYPES OF RNN"
   ]
  },
  {
   "cell_type": "markdown",
   "metadata": {},
   "source": [
    "RNN is classified into four main types based on the number of inputs and outputs. They are:\n",
    "\n",
    "- One-to-One RNN\n",
    "- Many-to-One RNN\n",
    "- One-to-Many RNN\n",
    "- Many-to-Many RNN\n",
    "\n",
    "**One-to-One RNN:** Single input and single output.\n",
    "\n",
    "**Many-to-One RNN:** Single input and multiple outputs. Can be used for classification.\n",
    "\n",
    "**One-to-Many RNN:** Multiple inputs and single output. Can be used to generate text for a given word or image.\n",
    "\n",
    "**Many-to-Many RNN:** Multiple inputs and multiple outputs. Can be used for translation."
   ]
  },
  {
   "cell_type": "markdown",
   "metadata": {},
   "source": [
    "# DIFFERENCE BETWEEN RNN, CNN AND FFNN"
   ]
  },
  {
   "cell_type": "markdown",
   "metadata": {},
   "source": [
    "| RNN | CNN | FFNN |\n",
    "| ---- | ---- | ---- |\n",
    "| Can handle sequential data | Cannot handle sequential data | Cannot handle sequential data |\n",
    "| No restriction in length of inputs and outputs | Finite inputs and outputs | Finite inputs and outputs |\n",
    "| Applicable for sequence data such as text and time series data | Applicable for sparse data like images | Applicable for tabular data |\n",
    "| BPTT | Simple backpropagation | Simple backpropagation |\n",
    "| Used for Time Series, Speech and Text Processing | Used for Image Processing | Used for Classification |"
   ]
  },
  {
   "cell_type": "markdown",
   "metadata": {},
   "source": [
    "# ADVANTAGES AND DISADVANTAGES OF RNN"
   ]
  },
  {
   "cell_type": "markdown",
   "metadata": {},
   "source": [
    "**Advantages:**\n",
    "\n",
    "- With increase in size of data, model size wont increase.\n",
    "\n",
    "- RNN can process inputs of any length, there is no restriction on the length of inputs.\n",
    "\n",
    "- Because of the ability to remember the past, RNN can be used for NLP and Time Series tasks.\n",
    "\n",
    "**Disadvantages:**\n",
    "\n",
    "- Vanishing gradient problem.\n",
    "\n",
    "- Exploding gradient problem.\n",
    "\n",
    "- Difficult to process long sequences.\n",
    "\n",
    "- Slow and complex architecture to train."
   ]
  },
  {
   "cell_type": "markdown",
   "metadata": {},
   "source": [
    "# VARIANTS OF RNN"
   ]
  },
  {
   "cell_type": "markdown",
   "metadata": {},
   "source": [
    "Some of the variants of RNN are:\n",
    "\n",
    "- Vanilla RNN\n",
    "- LSTM\n",
    "- GRU\n",
    "- Bidirectional RNN\n",
    "- Bidirectional LSTM\n",
    "- Stacked RNN\n",
    "- Stacked LSTM\n",
    "- Peephole connection\n",
    "\n",
    "We will see these in details in the subsequent sections. Before moving into variants of RNN lets see how to implement RNN network using the two famous deep learning frameworks: **Tensorflow and Pytorch**."
   ]
  },
  {
   "cell_type": "markdown",
   "metadata": {},
   "source": [
    "# IMPLEMENTING RNN NETWORKS"
   ]
  },
  {
   "cell_type": "markdown",
   "metadata": {},
   "source": [
    "## Importing the necessary libraries\n"
   ]
  },
  {
   "cell_type": "code",
   "execution_count": 1,
   "metadata": {},
   "outputs": [
    {
     "name": "stderr",
     "output_type": "stream",
     "text": [
      "c:\\Users\\Vasanth\\anaconda3\\envs\\oneneuronnlp\\lib\\site-packages\\tqdm\\auto.py:22: TqdmWarning: IProgress not found. Please update jupyter and ipywidgets. See https://ipywidgets.readthedocs.io/en/stable/user_install.html\n",
      "  from .autonotebook import tqdm as notebook_tqdm\n"
     ]
    }
   ],
   "source": [
    "import numpy as np\n",
    "import tensorflow as tf # pip install tensorflow or tensorflow-gpu if gpu available\n",
    "import tensorflow_datasets as tfds  # pip install tensorflow-datasets"
   ]
  },
  {
   "cell_type": "markdown",
   "metadata": {},
   "source": [
    "## Setting the data input pipeline"
   ]
  },
  {
   "cell_type": "markdown",
   "metadata": {},
   "source": [
    "### DOWNLOADING THE DATA"
   ]
  },
  {
   "cell_type": "code",
   "execution_count": 2,
   "metadata": {},
   "outputs": [
    {
     "data": {
      "text/plain": [
       "(TensorSpec(shape=(), dtype=tf.string, name=None),\n",
       " TensorSpec(shape=(), dtype=tf.int64, name=None))"
      ]
     },
     "execution_count": 2,
     "metadata": {},
     "output_type": "execute_result"
    }
   ],
   "source": [
    "def tf_build_data(data_name):\n",
    "    '''\n",
    "    This function is used to load the data from the tensorflow datasets for a given data id and\n",
    "    then return the outputs as train_dataset and test_dataset.\n",
    "\n",
    "    Parameters:\n",
    "    data_name: The name(id) of the dataset to be loaded.\n",
    "    \n",
    "    Returns:\n",
    "    info: The information of the dataset.\n",
    "    train_dataset: The training dataset.\n",
    "    test_dataset: The testing dataset.  '''\n",
    "\n",
    "    dataset, info = tfds.load(data_name, with_info=True,\n",
    "                          as_supervised=True)\n",
    "    train_dataset, test_dataset = dataset['train'], dataset['test']\n",
    "\n",
    "    return info, train_dataset, test_dataset\n",
    "\n",
    "info, train_data, test_data = tf_build_data('imdb_reviews')\n",
    "train_data.element_spec # This will show the specifications of the data like the shape of the data"
   ]
  },
  {
   "cell_type": "code",
   "execution_count": 3,
   "metadata": {},
   "outputs": [
    {
     "name": "stdout",
     "output_type": "stream",
     "text": [
      "tfds.core.DatasetInfo(\n",
      "    name='imdb_reviews',\n",
      "    full_name='imdb_reviews/plain_text/1.0.0',\n",
      "    description=\"\"\"\n",
      "    Large Movie Review Dataset.\n",
      "    This is a dataset for binary sentiment classification containing substantially more data than previous benchmark datasets. We provide a set of 25,000 highly polar movie reviews for training, and 25,000 for testing. There is additional unlabeled data for use as well.\n",
      "    \"\"\",\n",
      "    config_description=\"\"\"\n",
      "    Plain text\n",
      "    \"\"\",\n",
      "    homepage='http://ai.stanford.edu/~amaas/data/sentiment/',\n",
      "    data_path='C:\\\\Users\\\\Vasanth\\\\tensorflow_datasets\\\\imdb_reviews\\\\plain_text\\\\1.0.0',\n",
      "    download_size=80.23 MiB,\n",
      "    dataset_size=129.83 MiB,\n",
      "    features=FeaturesDict({\n",
      "        'label': ClassLabel(shape=(), dtype=tf.int64, num_classes=2),\n",
      "        'text': Text(shape=(), dtype=tf.string),\n",
      "    }),\n",
      "    supervised_keys=('text', 'label'),\n",
      "    disable_shuffling=False,\n",
      "    splits={\n",
      "        'test': <SplitInfo num_examples=25000, num_shards=1>,\n",
      "        'train': <SplitInfo num_examples=25000, num_shards=1>,\n",
      "        'unsupervised': <SplitInfo num_examples=50000, num_shards=1>,\n",
      "    },\n",
      "    citation=\"\"\"@InProceedings{maas-EtAl:2011:ACL-HLT2011,\n",
      "      author    = {Maas, Andrew L.  and  Daly, Raymond E.  and  Pham, Peter T.  and  Huang, Dan  and  Ng, Andrew Y.  and  Potts, Christopher},\n",
      "      title     = {Learning Word Vectors for Sentiment Analysis},\n",
      "      booktitle = {Proceedings of the 49th Annual Meeting of the Association for Computational Linguistics: Human Language Technologies},\n",
      "      month     = {June},\n",
      "      year      = {2011},\n",
      "      address   = {Portland, Oregon, USA},\n",
      "      publisher = {Association for Computational Linguistics},\n",
      "      pages     = {142--150},\n",
      "      url       = {http://www.aclweb.org/anthology/P11-1015}\n",
      "    }\"\"\",\n",
      ")\n"
     ]
    }
   ],
   "source": [
    "print(info)"
   ]
  },
  {
   "cell_type": "code",
   "execution_count": 4,
   "metadata": {},
   "outputs": [
    {
     "name": "stdout",
     "output_type": "stream",
     "text": [
      "<class 'tensorflow.python.data.ops.dataset_ops.PrefetchDataset'>\n"
     ]
    }
   ],
   "source": [
    "print(type(train_data))"
   ]
  },
  {
   "cell_type": "markdown",
   "metadata": {},
   "source": [
    "So here we are able to see that the train data contains an object of type **PrefetchDataset**. Inside this object there is two columns of data as tensors where the first column has data of type **tf.string** and the second column has data of type **tf.int64**. Now lets see an example of data from the data object."
   ]
  },
  {
   "cell_type": "code",
   "execution_count": 5,
   "metadata": {},
   "outputs": [
    {
     "name": "stdout",
     "output_type": "stream",
     "text": [
      "text:  b\"This was an absolutely terrible movie. Don't be lured in by Christopher Walken or Michael Ironside. Both are great actors, but this must simply be their worst role in history. Even their great acting could not redeem this movie's ridiculous storyline. This movie is an early nineties US propaganda piece. The most pathetic scenes were those when the Columbian rebels were making their cases for revolutions. Maria Conchita Alonso appeared phony, and her pseudo-love affair with Walken was nothing but a pathetic emotional plug in a movie that was devoid of any real meaning. I am disappointed that there are movies like this, ruining actor's like Christopher Walken's good name. I could barely sit through it.\"\n",
      "label:  0\n",
      "text:  b'I have been known to fall asleep during films, but this is usually due to a combination of things including, really tired, being warm and comfortable on the sette and having just eaten a lot. However on this occasion I fell asleep because the film was rubbish. The plot development was constant. Constantly slow and boring. Things seemed to happen, but with no explanation of what was causing them or why. I admit, I may have missed part of the film, but i watched the majority of it and everything just seemed to happen of its own accord without any real concern for anything else. I cant recommend this film at all.'\n",
      "label:  0\n",
      "text:  b'Mann photographs the Alberta Rocky Mountains in a superb fashion, and Jimmy Stewart and Walter Brennan give enjoyable performances as they always seem to do. <br /><br />But come on Hollywood - a Mountie telling the people of Dawson City, Yukon to elect themselves a marshal (yes a marshal!) and to enforce the law themselves, then gunfighters battling it out on the streets for control of the town? <br /><br />Nothing even remotely resembling that happened on the Canadian side of the border during the Klondike gold rush. Mr. Mann and company appear to have mistaken Dawson City for Deadwood, the Canadian North for the American Wild West.<br /><br />Canadian viewers be prepared for a Reefer Madness type of enjoyable howl with this ludicrous plot, or, to shake your head in disgust.'\n",
      "label:  0\n"
     ]
    }
   ],
   "source": [
    "def tf_show_data(count):\n",
    "    '''\n",
    "    This function is used to show the number of datas for a given count by users in a given dataset.\n",
    "\n",
    "    Parameters:\n",
    "    count: The number of data to be shown.\n",
    "    \n",
    "    Prints:\n",
    "    The data in the dataset for the given count. '''\n",
    "    for example, label in train_data.take(count):\n",
    "        print('text: ', example.numpy())\n",
    "        print('label: ', label.numpy())\n",
    "tf_show_data(3)"
   ]
  },
  {
   "cell_type": "markdown",
   "metadata": {},
   "source": [
    "### SHUFFLING AND BATCHING THE DATA"
   ]
  },
  {
   "cell_type": "code",
   "execution_count": 6,
   "metadata": {},
   "outputs": [],
   "source": [
    "SHUFFLE_SIZE = 10000 \n",
    "BATCH_SIZE = 64"
   ]
  },
  {
   "cell_type": "code",
   "execution_count": 7,
   "metadata": {},
   "outputs": [],
   "source": [
    "def tf_shuffle_batch_data(train_data, test_data, buffer_size=SHUFFLE_SIZE, batch_size=BATCH_SIZE):\n",
    "    '''\n",
    "    This function is used to shuffle and batch the data for a given dataset.\n",
    "\n",
    "    Parameters:\n",
    "    train_data : Training dataset\n",
    "    test_data : Testing dataset\n",
    "    buffer_size : The size of the buffer to shuffle the data\n",
    "    batch_size : The size of the batch to be returned\n",
    "\n",
    "    Returns:\n",
    "    train_data : Shuffled and Batched Training dataset\n",
    "    test_data : Shuffled and Batched Testing dataset '''\n",
    "\n",
    "    train_data = train_data.shuffle(buffer_size).batch(batch_size, drop_remainder=True).prefetch(tf.data.AUTOTUNE)\n",
    "    test_data = test_data.batch(batch_size, drop_remainder=True).prefetch(tf.data.AUTOTUNE)\n",
    "\n",
    "    return train_data, test_data\n",
    "\n",
    "train_data, test_data = tf_shuffle_batch_data(train_data, test_data)"
   ]
  },
  {
   "cell_type": "markdown",
   "metadata": {},
   "source": [
    "Here prefetch function of tf.data API is called. \n",
    "\n",
    "**What is prefetch?**\n",
    "\n",
    "**From tensorflow:**\n",
    "Prefetching overlaps the preprocessing and model execution of a training step. While the model is executing training step s, the input pipeline is reading the data for step s+1. Doing so reduces the step time to the maximum (as opposed to the sum) of the training and the time it takes to extract the data.\n",
    "\n",
    "The tf.data API provides the tf.data.Dataset.prefetch transformation. It can be used to decouple the time when data is produced from the time when data is consumed. In particular, the transformation uses a background thread and an internal buffer to prefetch elements from the input dataset ahead of the time they are requested. The number of elements to prefetch should be equal to (or possibly greater than) the number of batches consumed by a single training step. You could either manually tune this value, or set it to tf.data.AUTOTUNE, which will prompt the tf.data runtime to tune the value dynamically at runtime.\n"
   ]
  },
  {
   "cell_type": "code",
   "execution_count": 8,
   "metadata": {},
   "outputs": [
    {
     "name": "stdout",
     "output_type": "stream",
     "text": [
      "texts:  [b\"This was a nice attempt at something but it is too pretentious and boring to rise above it's low budget trappings. The use of virtual sets almost works but at some points it fails miserably. They made good use of the small budget I guess. I just wish the story and most of the acting was better. There are a lot of parts where you see what they were aiming for and it would of been great if they actually hit those marks but they don't. Confusing and unbelievable story. Bad DVD transfer too. It doesn't take much for me to watch a movie in one sitting. This I had to shut off. It was too boring. I can do slow movies. But just make them appealing in some aspect. Visually, story-wise, acting, etc. This was lacking in all departments so it never added up to an engrossing experience. Maybe the film maker's next attempt will be better.\"\n",
      " b\"The movie was gripping from start to finish and its b/w photography of the American heartland is stunning. We feel we are right there with them as they cross the big sky country and then into Mexico and back to America again. Near the end of the movie, the reflection of the rain on Robert Blake looks like small rivers of sweat and tears rolling down his face. In the end, we follow them up the stairway to their final moment. <br /><br />The two criminals, performed by Robert Blake and Scott Wilson, as Perry Smith and Dick Hickock could be seen on any street in any town. Hickock is a smiling boy next door and Smith, the guy with stars in his eyes from the wrong side of town. This point is made in the movie and it always surprises us that criminals are no different in appearance than anyone else. Evil, even the most vile, is part of the human condition. These two delusional men kill an entire family, looking for a safe that isn't there. Once on the run, they start writing bad cheques, carving out a trail for the authorities.<br /><br />There are many fine supporting actors. I like John Forsyth as the detective on the case, Alvin Dewey. Also, Will Geer shines in a brief but excellent scene as the prosecuting attorney.<br /><br />I have often wanted to see this movie all the way through, having only caught it in short snatches; I did finally get to it after buying the DVD. The result is the finest classic crime movie I have ever seen.<br /><br />Don't miss this brilliant movie. To me, this is what great film-making is all about.\"\n",
      " b\"I went to this movie expecting a concise movie relating the effect the Son of Sam had on the society. I didn't expect Spike Lee to force-feed me more garbage on racial tension, mob-justice, or the inability of the common citizen to make a choice under pressure by peers. Lee has presented an extreme opinion.<br /><br />The entire movie could have been more effective if in a 90-min format with more focus, less tangential sub-plots.<br /><br />Don't even bother renting the video unless you passionately enjoy Spike Lee; in such a case, the theatre is worth it. This is not an escapist movie.\"]\n",
      "\n",
      "labels:  [0 1 0]\n"
     ]
    }
   ],
   "source": [
    "for example, label in train_data.take(1):\n",
    "  print('texts: ', example.numpy()[:3])\n",
    "  print()\n",
    "  print('labels: ', label.numpy()[:3])"
   ]
  },
  {
   "cell_type": "markdown",
   "metadata": {},
   "source": [
    "### ENCODING THE DATA(VECTORIZING)"
   ]
  },
  {
   "cell_type": "code",
   "execution_count": 9,
   "metadata": {},
   "outputs": [],
   "source": [
    "def tf_encode_text(text_dataset, vocab_size):\n",
    "    '''\n",
    "    This function is used to encode the text in a given dataset.\n",
    "\n",
    "    Here for the Vectorization process we will use TextVectorization layer from tf.keras API which\n",
    "    will take VOCAB_SIZE as its value for map_tokens parameter. \n",
    "\n",
    "    This layer itself will perform the tokenization process and will vectorize the data as well.\n",
    "\n",
    "\n",
    "    Parameters:\n",
    "    text_dataset: The dataset to be encoded\n",
    "    vocab_size: The size of the vocabulary\n",
    "\n",
    "    Returns:\n",
    "    encoded_text: The encoded dataset '''\n",
    "\n",
    "    encoder = tf.keras.layers.TextVectorization(\n",
    "        max_tokens=vocab_size)\n",
    "    encoder.adapt(text_dataset.map(lambda text, label: text))\n",
    "    return encoder\n",
    "\n",
    "VOCAB_SIZE = 1000\n",
    "encoder = tf_encode_text(train_data, vocab_size=VOCAB_SIZE)"
   ]
  },
  {
   "cell_type": "markdown",
   "metadata": {},
   "source": [
    "The default value for preprocessing.TextVectorization's standardize argument is **\"lower_and_strip_punctuation\"**.\n",
    "The **.adapt method sets the layer's vocabulary**. After the padding and unknown tokens they're **sorted by frequency**. Once the vocabulary is set, the layer can encode text into indices. The tensors of indices are **0-padded to the longest sequence in the batch** unless and until a fixed **output_sequence_length** is specified."
   ]
  },
  {
   "cell_type": "code",
   "execution_count": 10,
   "metadata": {},
   "outputs": [
    {
     "name": "stdout",
     "output_type": "stream",
     "text": [
      "Vocabulary: ['' '[UNK]' 'the' 'and' 'a' 'of' 'to' 'is' 'in' 'it' 'i' 'this' 'that'\n",
      " 'br' 'was' 'as' 'for' 'with' 'movie' 'but' 'film' 'on' 'not' 'you' 'are'\n",
      " 'his' 'have' 'he' 'be' 'one' 'its' 'at' 'all' 'by' 'an' 'they' 'from'\n",
      " 'who' 'so' 'like' 'her' 'just' 'or' 'about' 'has' 'if' 'out' 'some'\n",
      " 'there' 'what' 'good' 'when' 'more' 'very' 'even' 'she' 'my' 'no' 'up'\n",
      " 'would' 'which' 'only' 'time' 'really' 'story' 'their' 'were' 'had' 'see'\n",
      " 'can' 'me' 'than' 'we' 'much' 'well' 'been' 'get' 'will' 'into' 'also'\n",
      " 'because' 'other' 'do' 'people' 'bad' 'great' 'first' 'how' 'most' 'him'\n",
      " 'dont' 'made' 'then' 'movies' 'make' 'could' 'films' 'way' 'them' 'any'\n",
      " 'too' 'after' 'characters' 'think' 'watch' 'two' 'many' 'being' 'seen'\n",
      " 'character' 'never' 'little' 'acting' 'where' 'plot' 'best' 'love' 'did'\n",
      " 'know' 'life' 'show' 'does' 'ever' 'your' 'still' 'better' 'over' 'off'\n",
      " 'these' 'end' 'say' 'while' 'here' 'man' 'why' 'scene' 'such' 'scenes'\n",
      " 'go' 'should' 'something' 'through' 'im' 'back' 'those' 'doesnt'\n",
      " 'watching' 'real' 'years' 'though' 'now' 'thing' 'actors' 'didnt'\n",
      " 'another' 'new' 'actually' 'before' 'nothing' 'makes' 'find' 'work'\n",
      " 'funny' 'look' 'few' 'old' 'going' 'same' 'every' 'lot' 'us' 'part'\n",
      " 'director' 'again' 'thats' 'cant' 'quite' 'want' 'cast' 'pretty' 'things'\n",
      " 'seems' 'young' 'got' 'around' 'fact' 'however' 'down' 'world' 'take'\n",
      " 'enough' 'both' 'give' 'between' 'may' 'ive' 'big' 'thought' 'original'\n",
      " 'horror' 'own' 'without' 'gets' 'always' 'series' 'right' 'isnt' 'long'\n",
      " 'saw' 'come' 'almost' 'times' 'point' 'least' 'theres' 'role' 'action'\n",
      " 'interesting' 'must' 'whole' 'comedy' 'bit' 'family' 'music' 'done'\n",
      " 'script' 'last' 'might' 'anything' 'hes' 'guy' 'feel' 'since' 'minutes'\n",
      " 'far' 'probably' 'performance' 'am' 'kind' 'rather' 'worst' 'yet' 'away'\n",
      " 'sure' 'tv' 'making' 'woman' 'girl' 'each' 'found' 'fun' 'played'\n",
      " 'anyone' 'having' 'our' 'although' 'believe' 'comes' 'trying' 'course'\n",
      " 'especially' 'goes' 'day' 'looks' 'hard' 'shows' 'put' 'different'\n",
      " 'wasnt' 'place' 'maybe' 'book' 'once' 'set' 'reason' 'money' 'main'\n",
      " 'worth' 'sense' 'everything' 'true' 'ending' 'looking' 'someone'\n",
      " 'watched' 'plays' 'actor' '2' 'job' 'seem' 'three' 'said' 'dvd' 'screen'\n",
      " 'takes' 'together' 'john' 'during' 'play' 'instead' 'beautiful' 'later'\n",
      " '10' 'effects' 'himself' 'everyone' 'version' 'left' 'seeing' 'special'\n",
      " 'night' 'audience' 'excellent' 'house' 'american' 'idea' 'nice' 'simply'\n",
      " 'shot' 'wife' 'youre' 'read' 'high' 'black' 'completely' 'less' 'kids'\n",
      " 'second' 'help' 'else' 'poor' 'fan' 'war' 'star' 'used' 'given' 'year'\n",
      " 'try' 'father' 'death' 'friends' 'need' 'rest' 'use' 'home' 'enjoy'\n",
      " 'short' 'men' 'mind' 'performances' 'classic' 'until' 'either' 'truly'\n",
      " 'hollywood' 'along' 'boring' 'half' 'wrong' 'dead' 'tell' 'production'\n",
      " 'women' 'line' 'remember' 'couple' 'next' 'came' 'start' 'recommend'\n",
      " 'perhaps' 'full' 'wonderful' 'let' 'understand' 'stupid' 'others'\n",
      " 'getting' 'mean' 'playing' 'moments' 'awful' 'keep' 'terrible' 'episode'\n",
      " 'camera' 'small' 'gives' 'definitely' 'often' 'doing' 'stars' 'sex'\n",
      " 'early' 'video' 'perfect' 'become' 'finally' 'school' 'name' 'felt'\n",
      " 'supposed' 'human' 'couldnt' 'face' 'liked' 'lines' 'dialogue' 'piece'\n",
      " 'person' 'itself' 'top' 'absolutely' 'lost' 'yes' 'case' 'against' 'went'\n",
      " 'entire' 'certainly' 'written' 'live' 'waste' 'title' 'sort' 'shes'\n",
      " 'budget' 'head' 'problem' 'hope' 'style' 'several' 'overall' 'picture'\n",
      " 'evil' 'loved' 'mr' 'worse' 'id' 'entertaining' 'becomes' '3' 'fans'\n",
      " 'seemed' 'cinema' 'boy' 'beginning' 'white' 'already' 'based' 'despite'\n",
      " 'care' 'oh' 'wanted' 'example' 'dark' '\\x96' 'lives' 'guys' 'killer'\n",
      " 'unfortunately' 'throughout' 'mother' 'direction' 'final' 'friend' 'turn'\n",
      " 'totally' 'fine' '1' 'wont' 'children' 'wants' 'amazing' 'sound' 'girls'\n",
      " 'laugh' 'guess' 'youll' 'lead' 'drama' 'tries' 'low' 'called' 'humor'\n",
      " 'writing' 'under' 'michael' 'works' 'history' 'turns' 'enjoyed' 'able'\n",
      " 'behind' 'theyre' 'past' 'quality' 'days' 'gave' 'favorite' 'kill'\n",
      " 'starts' 'game' 'son' 'act' 'sometimes' 'side' 'town' 'viewer' 'horrible'\n",
      " 'car' 'parts' 'actress' 'soon' 'child' 'ones' 'eyes' 'expect' 'obviously'\n",
      " 'flick' 'directed' 'themselves' 'thinking' 'heart' 'art' 'stories'\n",
      " 'brilliant' 'ill' 'run' 'highly' 'decent' 'myself' 'feeling' 'genre'\n",
      " 'late' 'stuff' 'blood' 'fight' 'close' 'took' 'says' 'city' 'except'\n",
      " 'heard' 'cannot' 'hand' 'leave' 'killed' 'matter' 'kid' 'police' 'hell'\n",
      " 'moment' 'wouldnt' 'extremely' 'strong' 'roles' 'happens' 'particularly'\n",
      " 'hour' 'lack' 'happened' 'obvious' 'involved' 'james' 'attempt' 'told'\n",
      " 'living' 'chance' 'violence' 'wonder' 'including' 'etc' 'complete' 'save'\n",
      " 'voice' 'coming' 'murder' 'daughter' 'anyway' 'please' 'looked' 'group'\n",
      " 'age' 'type' 'itbr' 'alone' 'experience' 'none' 'number' 'god' 'exactly'\n",
      " 'simple' 'score' 'slow' 'shown' 'ok' 'happen' 'ago' 'interest' 'usually'\n",
      " 'taken' 'lets' 'brother' 'whose' 'david' 'serious' 'cinematography'\n",
      " 'across' 'stop' 'somewhat' 'sad' 'annoying' 'song' 'running' 'hours'\n",
      " 'opening' 'known' 'ends' 'usual' 'musical' 'finds' 'possible' 'career'\n",
      " 'started' 'released' 'hit' 'yourself' 'wish' 'huge' 'relationship'\n",
      " 'seriously' 'scary' 'gore' 'jokes' 'change' 'saying' 'order' 'crap'\n",
      " 'ridiculous' 'mostly' 'today' 'robert' 'reality' 'english' 'cut' 'major'\n",
      " 'shots' 'taking' 'hilarious' 'episodes' 'novel' 'female' 'cool' 'body'\n",
      " '4' 'talking' 'opinion' 'call' 'directors' 'apparently' 'strange' 'due'\n",
      " 'basically' '5' 'hero' 'important' 'supporting' 'documentary' 'power'\n",
      " 'clearly' 'knows' 'knew' 'events' 'view' 'happy' 'turned' 'husband'\n",
      " 'songs' 'talent' 'level' 'arent' 'king' 'british' 'tells' 'easily' 'room'\n",
      " 'single' 'rating' 'local' 'word' 'attention' 'moviebr' 'bring' 'words'\n",
      " 'problems' 'cheap' 'whats' 'beyond' 'silly' 'modern' 'television'\n",
      " 'whether' 'sequence' 'light' 'falls' 'jack' 'four' 'disappointed' 'sets'\n",
      " 'five' 'future' 'country' 'paul' 'miss' 'similar' 'needs' 'romantic'\n",
      " 'giving' 'appears' 'viewers' 'upon' 'predictable' 'richard' 'earth'\n",
      " 'george' 'comic' 'entertainment' 'talk' 'review' 'within' 'havent'\n",
      " 'feels' 'nearly' 'mention' 'enjoyable' 'animation' 'message' 'filmbr'\n",
      " 'bunch' 'theater' 'lady' 'storyline' 'rock' 'lots' 'add' 'using' 'moving'\n",
      " 'actual' 'middle' 'above' 'theme' 'surprised' 'points' 'named' 'herself'\n",
      " 'ten' 'mystery' 'dull' 'among' 'comments' 'begins' 'ways' 'fantastic'\n",
      " 'stay' 'york' 'showing' 'sequel' 'typical' 'writer' 'easy' 'certain'\n",
      " 'elements' 'team' 'thriller' 'tried' 'effort' 'clear' 'fall' 'hate'\n",
      " 'near' 'avoid' 'tale' 'famous' 'sorry' 'release' 'means' 'somehow'\n",
      " 'parents' 'working' 'straight' 'peter' 'leads' 'kept' 'buy' 'greatest'\n",
      " 'red' 'french' 'dialog' 'doubt' 'form' 'class' 'soundtrack' 'sister'\n",
      " 'weak' 'editing' 'season' 'general' 'brought' 'filmed' 'figure' 'tom'\n",
      " 'oscar' 'feature' 'hear' 'whos' 'gone' 'particular' 'material' 'check'\n",
      " 'viewing' 'realistic' 'learn' 'imagine' 'youve' 'eye' 'eventually' 'fast'\n",
      " 'move' 'atmosphere' 'decided' 'sequences' 'possibly' 'reviews' 'forget'\n",
      " 'third' 'lame' 'deal' 'period' 'follow' 'lee' 'dance' 'became' 'premise'\n",
      " 'de' 'wait' 'indeed' 'space' 'sit' 'zombie' 'japanese' 'difficult'\n",
      " 'stand' 'poorly' 'sexual' 'whatever' 'die' 'expected' 'writers'\n",
      " 'surprise' 'nor' 'crime' 'nature' 'average' '80s' 'rent' 'leaves'\n",
      " 'subject' 'suspense' 'stage' 'okay' 'killing' 'truth' 'believable'\n",
      " 'screenplay' 'needed' 'filmmakers' 'reading' 'note' 'meets' 'meet' 'dr'\n",
      " 'boys' 'question' 'begin' 'romance' 'joe' 'realize' 'forced' 'street'\n",
      " 'emotional' 'otherwise' 'unless' 'memorable' 'write' 'superb' 'shame'\n",
      " 'older' 'minute' 'interested' 'earlier' 'disney' 'baby' 'whom' 'keeps'\n",
      " 'situation' 'footage' 'beauty' 'weird' 'features' 'dramatic' 'towards'\n",
      " 'dog' 'ask' 'credits' 'badly' 'total' 'previous' 'hot' 'brings' 'sounds'\n",
      " 'crazy' 'comment' 'plenty' 'male' 'worked' 'personal' 'incredibly'\n",
      " 'quickly' 'plus' 'directing' 'result' 'society' 'unique' 'cheesy'\n",
      " 'perfectly' 'admit' 'return' 'free' 'laughs' 'deep' 'creepy' 'america'\n",
      " 'development' 'appear' 'meant' 'open' 'hardly' 'leading' 'brothers'\n",
      " 'imdb' 'hands' 'b' '20' 'various' 'casting' 'apart' 'remake' 'mark'\n",
      " 'setting' 'effect' 'christmas' 'create' 'bill' 'mess' 'background'\n",
      " 'battle' 'scifi' 'potential' 'monster' 'forward' 'powerful' 'dream'\n",
      " 'portrayed' 'inside' 'outside' '70s' 'fairly' 'business' 'present'\n",
      " 'missing' 'manages' 'deserves' 'attempts' 'ideas' 'expecting' 'political'\n",
      " 'twist' 'secret' 'jane' 'fails' 'dumb' 'fire' 'fighting' 'unlike' 'joke'\n",
      " 'fantasy' 'ben' 'la' 'recently']\n",
      "Encoded train data example: [[ 11  14   4 ...   0   0   0]\n",
      " [  2  18  14 ...   0   0   0]\n",
      " [ 10 417   6 ...   0   0   0]]\n"
     ]
    }
   ],
   "source": [
    "vocab = np.array(encoder.get_vocabulary())\n",
    "print(\"Vocabulary: {}\".format(vocab))\n",
    "encoded_train_data_example = encoder(example)[:3].numpy()\n",
    "print(\"Encoded train data example: {}\".format(encoded_train_data_example))"
   ]
  },
  {
   "cell_type": "code",
   "execution_count": 11,
   "metadata": {},
   "outputs": [
    {
     "name": "stdout",
     "output_type": "stream",
     "text": [
      "Original:  b\"This was a nice attempt at something but it is too pretentious and boring to rise above it's low budget trappings. The use of virtual sets almost works but at some points it fails miserably. They made good use of the small budget I guess. I just wish the story and most of the acting was better. There are a lot of parts where you see what they were aiming for and it would of been great if they actually hit those marks but they don't. Confusing and unbelievable story. Bad DVD transfer too. It doesn't take much for me to watch a movie in one sitting. This I had to shut off. It was too boring. I can do slow movies. But just make them appealing in some aspect. Visually, story-wise, acting, etc. This was lacking in all departments so it never added up to an engrossing experience. Maybe the film maker's next attempt will be better.\"\n",
      "Round-trip:  this was a nice attempt at something but it is too [UNK] and boring to [UNK] above its low budget [UNK] the use of [UNK] sets almost works but at some points it fails [UNK] they made good use of the small budget i guess i just wish the story and most of the acting was better there are a lot of parts where you see what they were [UNK] for and it would of been great if they actually hit those [UNK] but they dont [UNK] and [UNK] story bad dvd [UNK] too it doesnt take much for me to watch a movie in one [UNK] this i had to [UNK] off it was too boring i can do slow movies but just make them [UNK] in some [UNK] [UNK] [UNK] acting etc this was [UNK] in all [UNK] so it never [UNK] up to an [UNK] experience maybe the film [UNK] next attempt will be better                                                                                                                                                                                                                                                                                                                                                                                                                                                                                                \n",
      "\n",
      "Original:  b\"The movie was gripping from start to finish and its b/w photography of the American heartland is stunning. We feel we are right there with them as they cross the big sky country and then into Mexico and back to America again. Near the end of the movie, the reflection of the rain on Robert Blake looks like small rivers of sweat and tears rolling down his face. In the end, we follow them up the stairway to their final moment. <br /><br />The two criminals, performed by Robert Blake and Scott Wilson, as Perry Smith and Dick Hickock could be seen on any street in any town. Hickock is a smiling boy next door and Smith, the guy with stars in his eyes from the wrong side of town. This point is made in the movie and it always surprises us that criminals are no different in appearance than anyone else. Evil, even the most vile, is part of the human condition. These two delusional men kill an entire family, looking for a safe that isn't there. Once on the run, they start writing bad cheques, carving out a trail for the authorities.<br /><br />There are many fine supporting actors. I like John Forsyth as the detective on the case, Alvin Dewey. Also, Will Geer shines in a brief but excellent scene as the prosecuting attorney.<br /><br />I have often wanted to see this movie all the way through, having only caught it in short snatches; I did finally get to it after buying the DVD. The result is the finest classic crime movie I have ever seen.<br /><br />Don't miss this brilliant movie. To me, this is what great film-making is all about.\"\n",
      "Round-trip:  the movie was [UNK] from start to [UNK] and its [UNK] [UNK] of the american [UNK] is [UNK] we feel we are right there with them as they [UNK] the big [UNK] country and then into [UNK] and back to america again near the end of the movie the [UNK] of the [UNK] on robert [UNK] looks like small [UNK] of [UNK] and [UNK] [UNK] down his face in the end we follow them up the [UNK] to their final moment br br the two [UNK] [UNK] by robert [UNK] and [UNK] [UNK] as [UNK] [UNK] and [UNK] [UNK] could be seen on any street in any town [UNK] is a [UNK] boy next [UNK] and [UNK] the guy with stars in his eyes from the wrong side of town this point is made in the movie and it always [UNK] us that [UNK] are no different in [UNK] than anyone else evil even the most [UNK] is part of the human [UNK] these two [UNK] men kill an entire family looking for a [UNK] that isnt there once on the run they start writing bad [UNK] [UNK] out a [UNK] for the [UNK] br there are many fine supporting actors i like john [UNK] as the [UNK] on the case [UNK] [UNK] also will [UNK] [UNK] in a [UNK] but excellent scene as the [UNK] [UNK] br i have often wanted to see this movie all the way through having only [UNK] it in short [UNK] i did finally get to it after [UNK] the dvd the result is the [UNK] classic crime movie i have ever [UNK] br dont miss this brilliant movie to me this is what great [UNK] is all about                                                                                                                                                                                                                                                                                                                                                                 \n",
      "\n",
      "Original:  b\"I went to this movie expecting a concise movie relating the effect the Son of Sam had on the society. I didn't expect Spike Lee to force-feed me more garbage on racial tension, mob-justice, or the inability of the common citizen to make a choice under pressure by peers. Lee has presented an extreme opinion.<br /><br />The entire movie could have been more effective if in a 90-min format with more focus, less tangential sub-plots.<br /><br />Don't even bother renting the video unless you passionately enjoy Spike Lee; in such a case, the theatre is worth it. This is not an escapist movie.\"\n",
      "Round-trip:  i went to this movie expecting a [UNK] movie [UNK] the effect the son of [UNK] had on the society i didnt expect [UNK] lee to [UNK] me more [UNK] on [UNK] [UNK] [UNK] or the [UNK] of the [UNK] [UNK] to make a [UNK] under [UNK] by [UNK] lee has [UNK] an [UNK] [UNK] br the entire movie could have been more [UNK] if in a [UNK] [UNK] with more [UNK] less [UNK] [UNK] br dont even [UNK] [UNK] the video unless you [UNK] enjoy [UNK] lee in such a case the [UNK] is worth it this is not an [UNK] movie                                                                                                                                                                                                                                                                                                                                                                                                                                                                                                                                                       \n",
      "\n"
     ]
    }
   ],
   "source": [
    "for n in range(3):\n",
    "  print(\"Original: \", example[n].numpy())\n",
    "  print(\"Round-trip: \", \" \".join(vocab[encoded_train_data_example[n]]))\n",
    "  print()"
   ]
  },
  {
   "cell_type": "markdown",
   "metadata": {},
   "source": [
    "# RNN"
   ]
  },
  {
   "cell_type": "markdown",
   "metadata": {},
   "source": [
    "## Model Creation"
   ]
  },
  {
   "cell_type": "markdown",
   "metadata": {},
   "source": [
    "**Steps to create a RNN model using Tensorflow:**\n",
    "\n",
    "1. Create a model using ``tf.keras.Sequential``\n",
    "2. The first layer inside this Sequential model is a ``tf.keras.layers.Embedding`` layer to embed the input sequence of vectors.\n",
    "3. Then add subsequent number of ``tf.keras.RNN`` layers to your choice.\n",
    "4. Add a ``tf.keras.layers.Dense`` layer to the end of your model which has the number of units equal to the number of classes and will be used as the output layer."
   ]
  },
  {
   "cell_type": "code",
   "execution_count": 12,
   "metadata": {},
   "outputs": [],
   "source": [
    "model = tf.keras.Sequential([\n",
    "    encoder,\n",
    "    tf.keras.layers.Embedding(\n",
    "        input_dim=len(encoder.get_vocabulary()),\n",
    "        output_dim=64,\n",
    "        # Use masking to handle the variable sequence lengths\n",
    "        mask_zero=True),\n",
    "    tf.keras.layers.SimpleRNN(64),\n",
    "    tf.keras.layers.Dropout(0.3),\n",
    "    tf.keras.layers.Dense(64, activation='relu'),\n",
    "    tf.keras.layers.Dense(1)\n",
    "])"
   ]
  },
  {
   "cell_type": "code",
   "execution_count": 13,
   "metadata": {},
   "outputs": [
    {
     "name": "stdout",
     "output_type": "stream",
     "text": [
      "[-0.03948397]\n"
     ]
    }
   ],
   "source": [
    "sample_text = ('The movie was cool.')\n",
    "predictions = model.predict(np.array([sample_text]))\n",
    "print(predictions[0])"
   ]
  },
  {
   "cell_type": "markdown",
   "metadata": {},
   "source": [
    "## Compiling and Training the Model"
   ]
  },
  {
   "cell_type": "markdown",
   "metadata": {},
   "source": [
    "### COMPILING THE MODEL"
   ]
  },
  {
   "cell_type": "code",
   "execution_count": 14,
   "metadata": {},
   "outputs": [],
   "source": [
    "def tf_compile_model(\n",
    "    model, \n",
    "    loss_fn = tf.keras.losses.BinaryCrossentropy(), \n",
    "    optimizer_fn = tf.keras.optimizers.Adam(learning_rate=1e-3), \n",
    "    metric = \"accuracy\"):\n",
    "    '''\n",
    "    This function is used to compile the model for a given loss and optimizer.\n",
    "\n",
    "    Parameters:\n",
    "    loss: The loss function to be used for training. Default : BinaryCrossentropy()\n",
    "    optimizer: The optimizer to be used for training. Default : Adam(learning_rate=2e-5)\n",
    "    metric: The metric to be used for training. Default : accuracy\n",
    "\n",
    "    Returns:\n",
    "    model: The compiled model ready for training'''\n",
    "\n",
    "    compile_model = model\n",
    "    compile_model.compile(loss=loss_fn\n",
    "    , optimizer=optimizer_fn, metrics=[metric])\n",
    "    return compile_model\n",
    "\n",
    "model = tf_compile_model(model)"
   ]
  },
  {
   "cell_type": "code",
   "execution_count": 15,
   "metadata": {},
   "outputs": [
    {
     "name": "stdout",
     "output_type": "stream",
     "text": [
      "Model: \"sequential\"\n",
      "_________________________________________________________________\n",
      " Layer (type)                Output Shape              Param #   \n",
      "=================================================================\n",
      " text_vectorization (TextVec  (None, None)             0         \n",
      " torization)                                                     \n",
      "                                                                 \n",
      " embedding (Embedding)       (None, None, 64)          64000     \n",
      "                                                                 \n",
      " simple_rnn (SimpleRNN)      (None, 64)                8256      \n",
      "                                                                 \n",
      " dropout (Dropout)           (None, 64)                0         \n",
      "                                                                 \n",
      " dense (Dense)               (None, 64)                4160      \n",
      "                                                                 \n",
      " dense_1 (Dense)             (None, 1)                 65        \n",
      "                                                                 \n",
      "=================================================================\n",
      "Total params: 76,481\n",
      "Trainable params: 76,481\n",
      "Non-trainable params: 0\n",
      "_________________________________________________________________\n"
     ]
    }
   ],
   "source": [
    "model.summary()"
   ]
  },
  {
   "cell_type": "markdown",
   "metadata": {},
   "source": [
    "Here is the summary of model that shows the number of parameters in the model along with layers and their shape"
   ]
  },
  {
   "cell_type": "markdown",
   "metadata": {},
   "source": [
    "### TRAINING THE MODEL"
   ]
  },
  {
   "cell_type": "code",
   "execution_count": 16,
   "metadata": {},
   "outputs": [],
   "source": [
    "def tf_train_rnn(validation_data, epochs=3, validation_steps=15):\n",
    "    '''\n",
    "    This function is used to train the model for a given epochs and validation steps.\n",
    "\n",
    "    Parameters:\n",
    "    validation_data: The validation dataset\n",
    "    epochs: The number of epochs to be used for training\n",
    "    validation_steps: The number of steps to be used for validation\n",
    "\n",
    "    Returns:\n",
    "    history: The history of the training process'''\n",
    "\n",
    "    history = model.fit(train_data, epochs=epochs, validation_data=validation_data, validation_steps=validation_steps)\n",
    "    return history"
   ]
  },
  {
   "cell_type": "code",
   "execution_count": 17,
   "metadata": {},
   "outputs": [
    {
     "name": "stdout",
     "output_type": "stream",
     "text": [
      "Epoch 1/3\n",
      "390/390 [==============================] - 531s 1s/step - loss: 0.8357 - accuracy: 0.5658 - val_loss: 0.6295 - val_accuracy: 0.6479\n",
      "Epoch 2/3\n",
      "390/390 [==============================] - 542s 1s/step - loss: 0.6433 - accuracy: 0.6391 - val_loss: 0.6826 - val_accuracy: 0.5542\n",
      "Epoch 3/3\n",
      "390/390 [==============================] - 534s 1s/step - loss: 0.6676 - accuracy: 0.5996 - val_loss: 0.6049 - val_accuracy: 0.6667\n"
     ]
    }
   ],
   "source": [
    "train_history = tf_train_rnn(test_data)"
   ]
  },
  {
   "cell_type": "markdown",
   "metadata": {},
   "source": [
    "## Predicting the sentiment"
   ]
  },
  {
   "cell_type": "code",
   "execution_count": 20,
   "metadata": {},
   "outputs": [
    {
     "name": "stdout",
     "output_type": "stream",
     "text": [
      "('positive', array([0.2790428], dtype=float32))\n",
      "('positive', array([0.1142449], dtype=float32))\n"
     ]
    }
   ],
   "source": [
    "def tf_predict(predict_text):\n",
    "    '''\n",
    "    This function is used to predict the sentiment of a given text.\n",
    "\n",
    "    Parameters:\n",
    "    predict_text: The text to be predicted\n",
    "\n",
    "    Returns:\n",
    "    prediction: The prediction of the text if it is positive or negative\n",
    "    prediction_confidence: The confidence of the prediction'''\n",
    "\n",
    "    prediction_confidence = model.predict(np.array([predict_text]))\n",
    "    if prediction_confidence[0] >= 0.0:\n",
    "        prediction = \"positive\"\n",
    "    else:\n",
    "        prediction = \"negative\"\n",
    "    return prediction, prediction_confidence[0]\n",
    "print(tf_predict(\"This movie was good\"))\n",
    "print(tf_predict(\"This movie was bad\"))"
   ]
  },
  {
   "cell_type": "markdown",
   "metadata": {},
   "source": [
    "## Plotting the Accuracy and Loss Curves"
   ]
  },
  {
   "cell_type": "code",
   "execution_count": 21,
   "metadata": {},
   "outputs": [],
   "source": [
    "import matplotlib.pyplot as plt\n",
    "\n",
    "def plot_graphs(history, metric):\n",
    "    '''\n",
    "    This is a helper function is used to plot the graph of the given metric.\n",
    "    \n",
    "    Parameters:\n",
    "    history: The history of the training process\n",
    "    metric: The metric to be plotted\n",
    "    \n",
    "    Returns:\n",
    "    None\n",
    "    \n",
    "    Plots:\n",
    "    The graph of the given metric'''\n",
    "\n",
    "    plt.plot(history.history[metric])\n",
    "    plt.plot(history.history['val_'+metric], '')\n",
    "    plt.xlabel(\"Epochs\")\n",
    "    plt.ylabel(metric)\n",
    "    plt.legend([metric, 'val_'+metric])"
   ]
  },
  {
   "cell_type": "code",
   "execution_count": 22,
   "metadata": {},
   "outputs": [
    {
     "data": {
      "image/png": "[encoded data removed]",
      "text/plain": [
       "<Figure size 1152x432 with 2 Axes>"
      ]
     },
     "metadata": {
      "needs_background": "light"
     },
     "output_type": "display_data"
    }
   ],
   "source": [
    "plt.figure(figsize=(16, 6))\n",
    "plt.subplot(1, 2, 1)\n",
    "plot_graphs(train_history, 'accuracy')\n",
    "plt.subplot(1, 2, 2)\n",
    "plot_graphs(train_history, 'loss')"
   ]
  },
  {
   "cell_type": "markdown",
   "metadata": {},
   "source": [
    "# LSTM"
   ]
  },
  {
   "cell_type": "markdown",
   "metadata": {},
   "source": []
  }
 ],
 "metadata": {
  "interpreter": {
   "hash": "03d00730efb6b0e0d888e9987e6d06f2c73fb88abee6f91561803b9042403bdf"
  },
  "kernelspec": {
   "display_name": "Python 3.8.13 ('oneneuronnlp')",
   "language": "python",
   "name": "python3"
  },
  "language_info": {
   "codemirror_mode": {
    "name": "ipython",
    "version": 3
   },
   "file_extension": ".py",
   "mimetype": "text/x-python",
   "name": "python",
   "nbconvert_exporter": "python",
   "pygments_lexer": "ipython3",
   "version": "3.8.13"
  },
  "orig_nbformat": 4
 },
 "nbformat": 4,
 "nbformat_minor": 2
}
