{
 "cells": [
  {
   "cell_type": "markdown",
   "metadata": {},
   "source": [
    "# **TEXT PREPROCESSING**\n",
    "\n",
    "In real world we wont get clean data at most of the times but to create a model we need clean data. By means of unclean data it will have unnecessary elements such as punctuations, stop words, numbers, casings etc... Suppose we need to build a sentiment analysis model for a movie review and if we get a unclean raw text data we should clean it by removing those unnecessary elements. We need to clean this data so that we can feed it as input to our model."
   ]
  },
  {
   "cell_type": "markdown",
   "metadata": {},
   "source": [
    "# FILE MANIPULATION"
   ]
  },
  {
   "cell_type": "markdown",
   "metadata": {},
   "source": [
    "### OPENING, READING AND CLOSING A TEXT FILE\n"
   ]
  },
  {
   "cell_type": "markdown",
   "metadata": {},
   "source": [
    "There are various ways to open a text file in Python. One of the most common way is to use the open() function. To open a text file we need to specify the file path and the mode of opening.\n",
    "Once the file is opened we can read the data from the file using the read() function. After reading the data we need to close the file using the close() function."
   ]
  },
  {
   "cell_type": "code",
   "execution_count": 1,
   "metadata": {},
   "outputs": [
    {
     "name": "stdout",
     "output_type": "stream",
     "text": [
      "This is a Test File, for Text Preprocessing.\n"
     ]
    }
   ],
   "source": [
    "txt_file_rd = open(\"./res/03_text_preprocessing.txt\", \"r\")\n",
    "txt_file_rd_content = txt_file_rd.read()\n",
    "txt_file_rd.close()\n",
    "print(txt_file_rd_content)"
   ]
  },
  {
   "cell_type": "markdown",
   "metadata": {},
   "source": [
    "### WRITING DATA TO A TEXT FILE"
   ]
  },
  {
   "cell_type": "markdown",
   "metadata": {},
   "source": [
    "There are various ways to write data to a text file in Python. One of the most common way is to use the open() function. To open a text file we need to specify the file path and the mode of opening. Once it is opened we can write data to the file using the write() function. After writing the data we need to close the file using the close() function."
   ]
  },
  {
   "cell_type": "code",
   "execution_count": 2,
   "metadata": {},
   "outputs": [],
   "source": [
    "txt_file_wr = open(\"./res/03_text_preprocessing.txt\", \"w\")\n",
    "txt_file_wr.write(\"This is a Test File, for Text Preprocessing.\")\n",
    "txt_file_wr.close()"
   ]
  },
  {
   "cell_type": "code",
   "execution_count": 3,
   "metadata": {},
   "outputs": [
    {
     "name": "stdout",
     "output_type": "stream",
     "text": [
      "This is a Test File, for Text Preprocessing.\n"
     ]
    }
   ],
   "source": [
    "txt_file_rd = open(\"./res/03_text_preprocessing.txt\", \"r\")\n",
    "txt_file_rd_content = txt_file_rd.read()\n",
    "txt_file_rd.close()\n",
    "print(txt_file_rd_content)"
   ]
  },
  {
   "cell_type": "markdown",
   "metadata": {},
   "source": [
    "# TEXT CLEANING USING REGEX AND NLTK"
   ]
  },
  {
   "cell_type": "markdown",
   "metadata": {},
   "source": [
    "Now that we have opened the file and read the data we need to know how to clean the data. For this specific cleaning task we will harness the power of regex and NLTK(Natural Language Toolkit). In this preprocessing steps mainly depends on the problem domain and the problem itself. Based on the problem statement the cleaning steps will be different. Every step will not be needed in every problem. "
   ]
  },
  {
   "cell_type": "markdown",
   "metadata": {},
   "source": [
    "## REGEX FUNCTIONS\n",
    "\n",
    "In Python section we have discussed about the different regex functions. Now we will use that knowledge to clean our data. Some of the regex functions are: sub, findall, etc..\n",
    "\n",
    "<figure>\n",
    "<img src= \"./res\\03_1_Regex_reference_table.png\" style=\"width:100%\">\n",
    "<a href = \"https://python.plainenglish.io/better-text-preprocessing-w-regex-774d27ee0e6d\"> <figcaption align = \"center\"><b>Fig.1 -  Regex</b></figcaption></a>\n",
    "</figure>"
   ]
  },
  {
   "cell_type": "code",
   "execution_count": 4,
   "metadata": {},
   "outputs": [],
   "source": [
    "### Importing the necessary libraries\n",
    "import nltk\n",
    "import string\n",
    "import re"
   ]
  },
  {
   "cell_type": "markdown",
   "metadata": {},
   "source": [
    "### TEXT TO LOWERCASE"
   ]
  },
  {
   "cell_type": "markdown",
   "metadata": {},
   "source": [
    "It is important to lowercase the text. This is because the model will be trained on lowercase text. And this case difference will cause the vectorization and tokenization process more difficult by making the model more sensitive to the case and also consuming more memory."
   ]
  },
  {
   "cell_type": "code",
   "execution_count": 5,
   "metadata": {},
   "outputs": [
    {
     "data": {
      "text/plain": [
       "'ineuron is an education platform for the future of education. they have a mission to make education accessible to everyone.'"
      ]
     },
     "execution_count": 5,
     "metadata": {},
     "output_type": "execute_result"
    }
   ],
   "source": [
    "### Lowercasing the text\n",
    "def lowercase_text(text): \n",
    "    return text.lower() \n",
    "\n",
    "lowercase_text_input_str = \"Ineuron is an Education Platform for the Future of Education. They have a mission to make education accessible to everyone.\"\n",
    "lowercase_text(lowercase_text_input_str) "
   ]
  },
  {
   "cell_type": "markdown",
   "metadata": {},
   "source": [
    "### REMOVING PUNCTUATION"
   ]
  },
  {
   "cell_type": "markdown",
   "metadata": {},
   "source": [
    "Punctuations needed to be removed because if there is a punctuation is there with a word such as iNeuron - iNeuron! then here iNeuron and iNeuron! will be treated as two different words. But if we remove the punctuation then it will be treated as one word. So we need to remove the punctuation."
   ]
  },
  {
   "cell_type": "code",
   "execution_count": 6,
   "metadata": {},
   "outputs": [
    {
     "data": {
      "text/plain": [
       "'Ineuron is an Education Platform for the Future of Education They have a mission to make education accessible to everyone'"
      ]
     },
     "execution_count": 6,
     "metadata": {},
     "output_type": "execute_result"
    }
   ],
   "source": [
    "## Removing Punctuation using the regex function\n",
    "def remove_punctuation(text):\n",
    "    return re.sub(r'[^\\w\\s]','',text)\n",
    "\n",
    "remove_punctuation_input_str = \"Ineuron is an Education Platform for the 'Future of Education'. They have a mission to make education accessible to everyone.!\"\n",
    "remove_punctuation(remove_punctuation_input_str)"
   ]
  },
  {
   "cell_type": "markdown",
   "metadata": {},
   "source": [
    "## REMOVE STOP WORDS"
   ]
  },
  {
   "cell_type": "markdown",
   "metadata": {},
   "source": [
    "Stop words are words which are not required to be considered in the model because they do not  contribute any meaning to the context of the sentence. It can be removed by using NLTK which has a corpus of set of stop words and if any specific word is there in the list from our sentence that can be removed. For example, the word \"the\" is not required to be considered in the model. So we need to remove the stop words."
   ]
  },
  {
   "cell_type": "code",
   "execution_count": 7,
   "metadata": {},
   "outputs": [
    {
     "data": {
      "text/plain": [
       "['Ineuron',\n",
       " 'Education',\n",
       " 'Platform',\n",
       " \"'Future\",\n",
       " 'Education',\n",
       " \"'\",\n",
       " '.',\n",
       " 'They',\n",
       " 'mission',\n",
       " 'make',\n",
       " 'education',\n",
       " 'accessible',\n",
       " 'everyone',\n",
       " '.',\n",
       " '!']"
      ]
     },
     "execution_count": 7,
     "metadata": {},
     "output_type": "execute_result"
    }
   ],
   "source": [
    "# importing nltk library \n",
    "from nltk.corpus import stopwords # set of stopwords\n",
    "from nltk.tokenize import word_tokenize # tokenization function which will be discussed in sometime\n",
    "\n",
    "# remove stopwords function \n",
    "def remove_stopwords(text): \n",
    "    stop_words = set(stopwords.words(\"english\")) \n",
    "    word_tokens = word_tokenize(text) \n",
    "    filtered_text = [word for word in word_tokens if word not in stop_words] \n",
    "    return filtered_text \n",
    "\n",
    "remove_stopwords_input_str = \"Ineuron is an Education Platform for the 'Future of Education'. They have a mission to make education accessible to everyone.!\"\n",
    "remove_stopwords(remove_stopwords_input_str)"
   ]
  },
  {
   "cell_type": "markdown",
   "metadata": {},
   "source": [
    "## PLAYING WITH NUMBERS"
   ]
  },
  {
   "cell_type": "markdown",
   "metadata": {},
   "source": [
    "There are two ways to preprocess the numbers where one is to remove the numbers and the other is to replace the numbers with its equivalent word representation such as one, two, three etc."
   ]
  },
  {
   "cell_type": "markdown",
   "metadata": {},
   "source": [
    "### REMOVING NUMBERS"
   ]
  },
  {
   "cell_type": "markdown",
   "metadata": {},
   "source": [
    "We can remove the numbers present in the text using the regex function sub() by matching the numbers with the regex pattern **\\d+**."
   ]
  },
  {
   "cell_type": "code",
   "execution_count": 8,
   "metadata": {},
   "outputs": [
    {
     "data": {
      "text/plain": [
       "\"There are  shops in this street of which  are mine and  are my friends'.\""
      ]
     },
     "execution_count": 8,
     "metadata": {},
     "output_type": "execute_result"
    }
   ],
   "source": [
    "### Removing numbers \n",
    "def remove_num(text): \n",
    "    result = re.sub(r'\\d+', '', text) \n",
    "    return result \n",
    "\n",
    "remove_num_input_str = \"There are 100 shops in this street of which 5 are mine and 18 are my friends'.\"\n",
    "remove_num(remove_num_input_str) "
   ]
  },
  {
   "cell_type": "markdown",
   "metadata": {},
   "source": [
    "### REPLACING NUMBING WITH WORDS"
   ]
  },
  {
   "cell_type": "markdown",
   "metadata": {},
   "source": [
    "For replacing the numbers with the equivalent words we will use the inflect module."
   ]
  },
  {
   "cell_type": "code",
   "execution_count": 9,
   "metadata": {},
   "outputs": [
    {
     "data": {
      "text/plain": [
       "\"There are one hundred shops in this street of which five are mine and eighteen are my friends'.\""
      ]
     },
     "execution_count": 9,
     "metadata": {},
     "output_type": "execute_result"
    }
   ],
   "source": [
    "# import the library \n",
    "import inflect \n",
    "q = inflect.engine() \n",
    "\n",
    "# convert number into text \n",
    "def convert_num(text): \n",
    "    # split strings into list of texts \n",
    "    temp_string = text.split() \n",
    "    # initialise empty list \n",
    "    new_str = [] \n",
    "    for word in temp_string: \n",
    "        # if text is a digit, convert the digit \n",
    "        # to numbers and append into the new_str list \n",
    "        if word.isdigit(): \n",
    "            temp = q.number_to_words(word) \n",
    "            new_str.append(temp) \n",
    "        # append the texts as it is \n",
    "        else: \n",
    "            new_str.append(word) \n",
    "    # join the texts of new_str to form a string \n",
    "    temp_str = ' '.join(new_str) \n",
    "    return temp_str \n",
    "convert_num_input_str = \"There are 100 shops in this street of which 5 are mine and 18 are my friends'.\"\n",
    "convert_num(convert_num_input_str)"
   ]
  },
  {
   "cell_type": "markdown",
   "metadata": {},
   "source": [
    "# TOKENIZATION USING NLTK AND SPACY"
   ]
  },
  {
   "cell_type": "markdown",
   "metadata": {},
   "source": [
    "## Tokenization\n",
    "\n",
    "Tokenization is the process of breaking the text into smaller enitites such as words, subwords or characters. For example, if we have a sentence \"I am a student\" then the tokenization will be I, am, a, student. This tokenization returns a list of tokens which will be used as input to the model after vectorizing it"
   ]
  },
  {
   "cell_type": "markdown",
   "metadata": {},
   "source": [
    "##  Tokenization using NLTK"
   ]
  },
  {
   "cell_type": "markdown",
   "metadata": {},
   "source": [
    "The word_tokenize function of NLTK takes a string as input and returns a list of tokens. Here the splitting happens considering the space as the delimiter. There are some other tokenizers such as WordPunctTokenizer, PunktSentenceTokenizer, TreebankWordTokenizer etc. WhitespaceTokenizer is similar word_tokenize function of NLTK which considers the space, tab, newline etc. as the delimiter."
   ]
  },
  {
   "cell_type": "code",
   "execution_count": 10,
   "metadata": {},
   "outputs": [],
   "source": [
    "# word_tokenize function of nltk library\n",
    "\n",
    "from nltk.tokenize import word_tokenize\n",
    "def tokenize_text_word_tokenize(text):\n",
    "    return word_tokenize(text)"
   ]
  },
  {
   "cell_type": "code",
   "execution_count": 11,
   "metadata": {},
   "outputs": [],
   "source": [
    "# WordPunctTokenizer class of nltk library\n",
    "from nltk.tokenize.regexp import WordPunctTokenizer\n",
    "def tokenize_text_wordpunct(text):\n",
    "    return WordPunctTokenizer().tokenize(text)"
   ]
  },
  {
   "cell_type": "code",
   "execution_count": 12,
   "metadata": {},
   "outputs": [],
   "source": [
    "# PunktSentenceTokenizer class of nltk library\n",
    "from nltk.tokenize import PunktSentenceTokenizer\n",
    "def tokenize_text_punkt(text):\n",
    "    return PunktSentenceTokenizer().tokenize(text)"
   ]
  },
  {
   "cell_type": "code",
   "execution_count": 13,
   "metadata": {},
   "outputs": [],
   "source": [
    "# TreebankWordTokenizer class of nltk library\n",
    "from nltk.tokenize import TreebankWordTokenizer\n",
    "def tokenize_text_treebank(text):\n",
    "    return TreebankWordTokenizer().tokenize(text)"
   ]
  },
  {
   "cell_type": "code",
   "execution_count": 14,
   "metadata": {},
   "outputs": [
    {
     "data": {
      "text/plain": [
       "['Ineuron',\n",
       " 'is',\n",
       " 'an',\n",
       " 'Education',\n",
       " 'Platform',\n",
       " 'for',\n",
       " 'the',\n",
       " \"'Future\",\n",
       " 'of',\n",
       " 'Education',\n",
       " \"'\",\n",
       " '.',\n",
       " 'They',\n",
       " 'have',\n",
       " 'a',\n",
       " 'mission',\n",
       " 'to',\n",
       " 'make',\n",
       " 'education',\n",
       " 'accessible',\n",
       " 'to',\n",
       " 'everyone',\n",
       " '.',\n",
       " '!']"
      ]
     },
     "execution_count": 14,
     "metadata": {},
     "output_type": "execute_result"
    }
   ],
   "source": [
    "tokenize_input_str = \"Ineuron is an Education Platform for the 'Future of Education'. They have a mission to make education accessible to everyone.!\"\n",
    "tokenize_text_word_tokenize(tokenize_input_str)"
   ]
  },
  {
   "cell_type": "code",
   "execution_count": 15,
   "metadata": {},
   "outputs": [
    {
     "data": {
      "text/plain": [
       "['Ineuron',\n",
       " 'is',\n",
       " 'an',\n",
       " 'Education',\n",
       " 'Platform',\n",
       " 'for',\n",
       " 'the',\n",
       " \"'\",\n",
       " 'Future',\n",
       " 'of',\n",
       " 'Education',\n",
       " \"'.\",\n",
       " 'They',\n",
       " 'have',\n",
       " 'a',\n",
       " 'mission',\n",
       " 'to',\n",
       " 'make',\n",
       " 'education',\n",
       " 'accessible',\n",
       " 'to',\n",
       " 'everyone',\n",
       " '.!']"
      ]
     },
     "execution_count": 15,
     "metadata": {},
     "output_type": "execute_result"
    }
   ],
   "source": [
    "tokenize_input_str = \"Ineuron is an Education Platform for the 'Future of Education'. They have a mission to make education accessible to everyone.!\"\n",
    "tokenize_text_wordpunct(tokenize_input_str)"
   ]
  },
  {
   "cell_type": "code",
   "execution_count": 16,
   "metadata": {},
   "outputs": [
    {
     "data": {
      "text/plain": [
       "[\"Ineuron is an Education Platform for the 'Future of Education'.\",\n",
       " 'They have a mission to make education accessible to everyone.',\n",
       " '!']"
      ]
     },
     "execution_count": 16,
     "metadata": {},
     "output_type": "execute_result"
    }
   ],
   "source": [
    "tokenize_input_str = \"Ineuron is an Education Platform for the 'Future of Education'. They have a mission to make education accessible to everyone.!\"\n",
    "tokenize_text_punkt(tokenize_input_str)"
   ]
  },
  {
   "cell_type": "code",
   "execution_count": 17,
   "metadata": {},
   "outputs": [
    {
     "data": {
      "text/plain": [
       "['Ineuron',\n",
       " 'is',\n",
       " 'an',\n",
       " 'Education',\n",
       " 'Platform',\n",
       " 'for',\n",
       " 'the',\n",
       " \"'Future\",\n",
       " 'of',\n",
       " \"Education'.\",\n",
       " 'They',\n",
       " 'have',\n",
       " 'a',\n",
       " 'mission',\n",
       " 'to',\n",
       " 'make',\n",
       " 'education',\n",
       " 'accessible',\n",
       " 'to',\n",
       " 'everyone.',\n",
       " '!']"
      ]
     },
     "execution_count": 17,
     "metadata": {},
     "output_type": "execute_result"
    }
   ],
   "source": [
    "tokenize_input_str = \"Ineuron is an Education Platform for the 'Future of Education'. They have a mission to make education accessible to everyone.!\"\n",
    "tokenize_text_treebank(tokenize_input_str)"
   ]
  },
  {
   "cell_type": "code",
   "execution_count": null,
   "metadata": {},
   "outputs": [],
   "source": []
  },
  {
   "cell_type": "markdown",
   "metadata": {},
   "source": [
    "## Tokenization using Spacy"
   ]
  },
  {
   "cell_type": "code",
   "execution_count": 18,
   "metadata": {},
   "outputs": [
    {
     "name": "stdout",
     "output_type": "stream",
     "text": [
      "Ineuron, is, an, Education, Platform, that's, for, the, 'Future, of, Education'., They, have, a, mission, to, make, education, accessible, to, everyone.!, "
     ]
    }
   ],
   "source": [
    "# Construction 1\n",
    "from spacy.tokenizer import Tokenizer\n",
    "from spacy.lang.en import English\n",
    "nlp = English()\n",
    "# Create a blank Tokenizer with just the English vocab\n",
    "tokenizer = Tokenizer(nlp.vocab)\n",
    "tokens = tokenizer(\"Ineuron is an Education Platform that's for the 'Future of Education'. They have a mission to make education accessible to everyone.!\")\n",
    "for token in tokens:\n",
    "    print(token,end=', ')"
   ]
  },
  {
   "cell_type": "code",
   "execution_count": 19,
   "metadata": {},
   "outputs": [
    {
     "name": "stdout",
     "output_type": "stream",
     "text": [
      "Ineuron, is, an, Education, Platform, that, 's, for, the, ', Future, of, Education, ', ., They, have, a, mission, to, make, education, accessible, to, everyone, ., !, "
     ]
    }
   ],
   "source": [
    "# Construction 2\n",
    "from spacy.lang.en import English\n",
    "nlp = English()\n",
    "# Create a Tokenizer with the default settings for English\n",
    "# including punctuation rules and exceptions\n",
    "tokenizer2 = nlp.tokenizer\n",
    "tokens = tokenizer2(\"Ineuron is an Education Platform that's for the 'Future of Education'. They have a mission to make education accessible to everyone.!\")\n",
    "for token in tokens:\n",
    "    print(token,end=', ')"
   ]
  },
  {
   "cell_type": "markdown",
   "metadata": {},
   "source": [
    "# STEMMING USING NLTK AND SPACY"
   ]
  },
  {
   "cell_type": "markdown",
   "metadata": {},
   "source": [
    "## Stemming"
   ]
  },
  {
   "cell_type": "markdown",
   "metadata": {},
   "source": [
    "From Stemming we will process of getting the root form of a word. Root or Stem is the part to which inflextional affixes(like -ed, -ize, etc) are added. We would create the stem words by removing the prefix of suffix of a word. So, stemming a word may not result in actual words.\n",
    "\n",
    "For Example: Mangoes ---> Mango\n",
    "\n",
    "             Boys ---> Boy\n",
    "             \n",
    "             going ---> go"
   ]
  },
  {
   "cell_type": "markdown",
   "metadata": {},
   "source": [
    "## Stemming using NLTK\n",
    "\n",
    "If our sentences are not in tokens, then we need to convert it into tokens. After we converted strings of text into tokens, then we can convert those word tokens into their root form. These are the Porter stemmer, the snowball stemmer, and the Lancaster Stemmer. Out of these SnowballStemmer is the best choice."
   ]
  },
  {
   "cell_type": "code",
   "execution_count": 20,
   "metadata": {},
   "outputs": [
    {
     "data": {
      "text/plain": [
       "['ineuron',\n",
       " 'is',\n",
       " 'an',\n",
       " 'educ',\n",
       " 'platform',\n",
       " 'that',\n",
       " \"'s\",\n",
       " 'for',\n",
       " 'the',\n",
       " \"'futur\",\n",
       " 'of',\n",
       " 'educ',\n",
       " \"'\",\n",
       " '.',\n",
       " 'they',\n",
       " 'have',\n",
       " 'a',\n",
       " 'mission',\n",
       " 'to',\n",
       " 'make',\n",
       " 'educ',\n",
       " 'access',\n",
       " 'fairli',\n",
       " 'to',\n",
       " 'everyon',\n",
       " '.',\n",
       " '!']"
      ]
     },
     "execution_count": 20,
     "metadata": {},
     "output_type": "execute_result"
    }
   ],
   "source": [
    "# nltk's porter stemmer \n",
    "from nltk.stem.porter import PorterStemmer \n",
    "from nltk.tokenize import word_tokenize \n",
    "stem1 = PorterStemmer() \n",
    "\n",
    "# stem words in the list of tokenised words \n",
    "def porter_stem_words(text): \n",
    "    word_tokens = word_tokenize(text) \n",
    "    stems = [stem1.stem(word) for word in word_tokens] \n",
    "    return stems \n",
    "\n",
    "porter_stem_text = \"Ineuron is an Education Platform that's for the 'Future of Education'. They have a mission to make education accessible fairly to everyone.!\"\n",
    "porter_stem_words(porter_stem_text)"
   ]
  },
  {
   "cell_type": "code",
   "execution_count": 21,
   "metadata": {},
   "outputs": [
    {
     "data": {
      "text/plain": [
       "['ineuron',\n",
       " 'is',\n",
       " 'an',\n",
       " 'educ',\n",
       " 'platform',\n",
       " 'that',\n",
       " \"'s\",\n",
       " 'for',\n",
       " 'the',\n",
       " \"'future\",\n",
       " 'of',\n",
       " 'educ',\n",
       " \"'\",\n",
       " '.',\n",
       " 'they',\n",
       " 'hav',\n",
       " 'a',\n",
       " 'miss',\n",
       " 'to',\n",
       " 'mak',\n",
       " 'educ',\n",
       " 'access',\n",
       " 'fair',\n",
       " 'everyon',\n",
       " '.',\n",
       " '!']"
      ]
     },
     "execution_count": 21,
     "metadata": {},
     "output_type": "execute_result"
    }
   ],
   "source": [
    "# nltk's Lancaster Stemmer\n",
    "from nltk.stem.lancaster import LancasterStemmer\n",
    "stem2 = LancasterStemmer()\n",
    "\n",
    "def lanc_stem_words(text): \n",
    "    word_tokens = word_tokenize(text) \n",
    "    stems = [stem2.stem(word) for word in word_tokens] \n",
    "    return stems\n",
    "\n",
    "lanc_stem_text = \"Ineuron is an Education Platform that's for the 'Future of Education'. They have a mission to make education accessible fairly everyone.!\"\n",
    "lanc_stem_words(lanc_stem_text)"
   ]
  },
  {
   "cell_type": "code",
   "execution_count": 22,
   "metadata": {},
   "outputs": [
    {
     "data": {
      "text/plain": [
       "['ineuron',\n",
       " 'is',\n",
       " 'an',\n",
       " 'educ',\n",
       " 'platform',\n",
       " 'that',\n",
       " \"'s\",\n",
       " 'for',\n",
       " 'the',\n",
       " 'futur',\n",
       " 'of',\n",
       " 'educ',\n",
       " \"'\",\n",
       " '.',\n",
       " 'they',\n",
       " 'have',\n",
       " 'a',\n",
       " 'mission',\n",
       " 'to',\n",
       " 'make',\n",
       " 'educ',\n",
       " 'access',\n",
       " 'fair',\n",
       " 'to',\n",
       " 'everyon',\n",
       " '.',\n",
       " '!']"
      ]
     },
     "execution_count": 22,
     "metadata": {},
     "output_type": "execute_result"
    }
   ],
   "source": [
    "# nltk's SnowballStemmer\n",
    "from nltk.stem.snowball import SnowballStemmer\n",
    "stem3 = SnowballStemmer(\"english\")\n",
    "\n",
    "def snowball_stem_words(text):\n",
    "    word_tokens = word_tokenize(text) \n",
    "    stems = [stem3.stem(word) for word in word_tokens] \n",
    "    return stems\n",
    "\n",
    "snow_stem_text = \"Ineuron is an Education Platform that's for the 'Future of Education'. They have a mission to make education accessible fairly to everyone.!\"\n",
    "snowball_stem_words(snow_stem_text)"
   ]
  },
  {
   "cell_type": "markdown",
   "metadata": {},
   "source": [
    "Here it is visible that in Porter Stemmer it stemmed fairly to fairli but SnowballStemmer stemmed to fair. Snowball Stemmer is slightly more aggrresive than Porter Stemmer and Lancaster Stemmer."
   ]
  },
  {
   "cell_type": "markdown",
   "metadata": {},
   "source": [
    "## Stemming using Spacy"
   ]
  },
  {
   "cell_type": "markdown",
   "metadata": {},
   "source": [
    "There is no stemming in Spacy."
   ]
  },
  {
   "cell_type": "markdown",
   "metadata": {},
   "source": [
    "# LEMMATIZATION USING NLTK AND SPACY"
   ]
  },
  {
   "cell_type": "markdown",
   "metadata": {},
   "source": [
    "## Lemmatization\n",
    "\n",
    "A lemma is the base form of a token. The lemma of writing, wrote is write. Lemmatization is the process of reducing the words to their base form or lemmas. As stemming, lemmatization do the same but the only difference is that lemmatization ensures that root word belongs to the language. Because of the use of lemmatization we will get the valid words. "
   ]
  },
  {
   "cell_type": "markdown",
   "metadata": {},
   "source": [
    "## Lemmatization using NLTK\n",
    "\n",
    "In NLTK(Natural language Toolkit), we use WordLemmatizer to get the lemmas of words. We also need to provide a context for the lemmatization.So, we added pos(parts-of-speech) as a parameter. "
   ]
  },
  {
   "cell_type": "code",
   "execution_count": 23,
   "metadata": {},
   "outputs": [
    {
     "name": "stderr",
     "output_type": "stream",
     "text": [
      "[nltk_data] Downloading package wordnet to\n",
      "[nltk_data]     C:\\Users\\Admin\\AppData\\Roaming\\nltk_data...\n",
      "[nltk_data]   Package wordnet is already up-to-date!\n"
     ]
    },
    {
     "data": {
      "text/plain": [
       "['Ineuron',\n",
       " 'be',\n",
       " 'an',\n",
       " 'Education',\n",
       " 'Platform',\n",
       " 'that',\n",
       " \"'s\",\n",
       " 'for',\n",
       " 'the',\n",
       " \"'Future\",\n",
       " 'of',\n",
       " 'Education',\n",
       " \"'\",\n",
       " '.',\n",
       " 'They',\n",
       " 'have',\n",
       " 'a',\n",
       " 'mission',\n",
       " 'to',\n",
       " 'make',\n",
       " 'education',\n",
       " 'accessible',\n",
       " 'fairly',\n",
       " 'to',\n",
       " 'everyone',\n",
       " '.',\n",
       " '!']"
      ]
     },
     "execution_count": 23,
     "metadata": {},
     "output_type": "execute_result"
    }
   ],
   "source": [
    "from nltk.stem import wordnet \n",
    "from nltk.tokenize import word_tokenize \n",
    "lemma = wordnet.WordNetLemmatizer()\n",
    "nltk.download('wordnet')\n",
    "# lemmatize string \n",
    "def lemmatize_word(text): \n",
    "    word_tokens = word_tokenize(text) \n",
    "    # provide context i.e. part-of-speech(pos)\n",
    "    lemmas = [lemma.lemmatize(word, pos ='v') for word in word_tokens] \n",
    "    return lemmas \n",
    "\n",
    "text = \"Ineuron is an Education Platform that's for the 'Future of Education'. They have a mission to make education accessible fairly to everyone.!\"\n",
    "lemmatize_word(text)"
   ]
  },
  {
   "cell_type": "markdown",
   "metadata": {},
   "source": [
    "Here \"is\" is converted to its base form \"be\""
   ]
  },
  {
   "cell_type": "markdown",
   "metadata": {},
   "source": [
    "## Lemmatization using Spacy\n",
    "\n",
    "In Spacy we use .lemma_ of the token to get the lemma of the token."
   ]
  },
  {
   "cell_type": "code",
   "execution_count": 24,
   "metadata": {},
   "outputs": [
    {
     "name": "stdout",
     "output_type": "stream",
     "text": [
      "Ineuron Ineuron\n",
      "is be\n",
      "an an\n",
      "Education Education\n",
      "Platform Platform\n",
      "that that\n",
      "'s be\n",
      "for for\n",
      "the the\n",
      "' '\n",
      "Future future\n",
      "of of\n",
      "Education Education\n",
      "' '\n",
      ". .\n",
      "They they\n",
      "have have\n",
      "a a\n",
      "mission mission\n",
      "to to\n",
      "make make\n",
      "education education\n",
      "accessible accessible\n",
      "fairly fairly\n",
      "to to\n",
      "everyone everyone\n",
      ". .\n",
      "! !\n"
     ]
    }
   ],
   "source": [
    "# lemmatization using spacy\n",
    "import spacy\n",
    "from spacy.lang.en import English\n",
    "nlp = spacy.load('en_core_web_sm')\n",
    "# Create a Tokenizer with the default settings for English\n",
    "# including punctuation rules and exceptions\n",
    "doc = nlp(\"Ineuron is an Education Platform that's for the 'Future of Education'. They have a mission to make education accessible fairly to everyone.!\")\n",
    "for token in doc:\n",
    "    print(token.text, token.lemma_)"
   ]
  },
  {
   "cell_type": "markdown",
   "metadata": {},
   "source": [
    "# WORD CLOUD"
   ]
  },
  {
   "cell_type": "markdown",
   "metadata": {},
   "source": [
    "Word Cloud is a visual representation of the words in a text. It is a way to represent the words in a text in a form of a cloud where the size of the words indicates the frequency of the words. By this we can see how the words are distributed in the text."
   ]
  },
  {
   "cell_type": "code",
   "execution_count": 25,
   "metadata": {},
   "outputs": [
    {
     "data": {
      "image/png": "[encoded data removed]",
      "text/plain": [
       "<Figure size 576x576 with 1 Axes>"
      ]
     },
     "metadata": {
      "needs_background": "light"
     },
     "output_type": "display_data"
    }
   ],
   "source": [
    "# wordcloud using wordcloud library\n",
    "import wordcloud\n",
    "from wordcloud import WordCloud\n",
    "import matplotlib.pyplot as plt\n",
    "\n",
    "wordcloud_input_str = \"Ineuron is an Education Platform that's for the 'Future of Education'. Ineuron have a mission to make education accessible fairly to everyone.!\"\n",
    "\n",
    "wprd = WordCloud(width = 800, height = 800, background_color ='white').generate(wordcloud_input_str)\n",
    "plt.figure(figsize = (8, 8), facecolor = None)\n",
    "plt.imshow(wprd)\n",
    "plt.axis(\"off\")\n",
    "plt.tight_layout(pad = 0)\n",
    "plt.show()"
   ]
  },
  {
   "cell_type": "markdown",
   "metadata": {},
   "source": [
    "Here it is noticable that Ineuron is larger than other words because the word Ineuron is present in the text more than other words. Ineuron is present two times while others are only present once."
   ]
  },
  {
   "cell_type": "code",
   "execution_count": null,
   "metadata": {},
   "outputs": [],
   "source": []
  },
  {
   "cell_type": "markdown",
   "metadata": {},
   "source": [
    "# PART OF SPEECH TAGGING USING NLTK AND SPACY"
   ]
  },
  {
   "cell_type": "markdown",
   "metadata": {},
   "source": [
    "## POS TAGGING"
   ]
  },
  {
   "cell_type": "markdown",
   "metadata": {},
   "source": [
    "Part of Speech Tagging is the process of assigning a part of speech to each word in a sentence.\n",
    "Here, the part of speech is a broad term that includes the different parts of speech such as nouns, verbs, adjectives, adverbs, prepositions, conjunctions, etc...\n",
    "But in NLP, the part of speech is a more specific term which is called POS tag.\n",
    "\n",
    "<figure>\n",
    "<img src= \"./res/01_2_1-pos-tag-eg.jpeg\" style=\"width:100%\">\n",
    "<figcaption align = \"center\"><b>Fig.2 - POS tagging example</b></figcaption>\n",
    "</figure>"
   ]
  },
  {
   "cell_type": "markdown",
   "metadata": {},
   "source": [
    "## APPLICATION OF POS TAGGING"
   ]
  },
  {
   "cell_type": "markdown",
   "metadata": {},
   "source": [
    "- POS tagging is used to understand the syntactic structure of the sentence.\n",
    "- It is used to understand the meaning of the sentence.\n",
    "- Word Sense Disambiguation"
   ]
  },
  {
   "cell_type": "markdown",
   "metadata": {},
   "source": [
    "## TYPES OF POS TAGGING"
   ]
  },
  {
   "cell_type": "markdown",
   "metadata": {},
   "source": [
    "There are **2** main types of POS Tagging. They are:\n",
    "- Rule Based POS Tagging\n",
    "- Stochastic POS Tagging    \n",
    "\n",
    "### RULE BASED POS TAGGING\n",
    "- The rule based POS tagging is the simplest POS tagging technique. Here, the POS tag is assigned to each word based on the predefined rules. There are many rules which are used to assign the POS tag. This disambinguation is done by analyzing the linguistic features of the word, its preceding word, its following word, and other aspects.\n",
    "\n",
    "- ***For eg:***\n",
    "**If the preceding word is an article, then the word in contention for tagging must be a noun.**\n",
    "\n",
    "- The main disadvantage of the rule based POS tagging is that it is very slow and tiring process to create the rules.\n",
    "\n",
    "### STOCHASTIC POS TAGGING\n",
    "The term \"stochastic tagger\" can be referred any number of different approaches to the problem of POS tagging. Any model that somehow incorporates frequency or probability in its approach of tagging the words can be saidd as stochastic.\n",
    "\n",
    "***For eg: HMM(Hidden Markov Model)***"
   ]
  },
  {
   "cell_type": "markdown",
   "metadata": {},
   "source": [
    "## POS TAGGING using NLTK"
   ]
  },
  {
   "cell_type": "code",
   "execution_count": 26,
   "metadata": {},
   "outputs": [
    {
     "name": "stdout",
     "output_type": "stream",
     "text": [
      "[('Hello', 'NNP'), ('Everyone', 'NNP'), ('.', '.')]\n",
      "[('Welcome', 'VB'), ('to', 'TO'), ('Ineuron', 'NNP'), ('NLP', 'NNP'), ('.', '.')]\n",
      "[('How', 'WRB'), ('are', 'VBP'), ('you', 'PRP'), ('?', '.')]\n"
     ]
    }
   ],
   "source": [
    "import nltk\n",
    "text = \"Hello Everyone. Welcome to Ineuron NLP. How are you?\"\n",
    "sentence = nltk.sent_tokenize(text)\n",
    "for sent in sentence:\n",
    "    print(nltk.pos_tag(nltk.word_tokenize(sent)))"
   ]
  },
  {
   "cell_type": "markdown",
   "metadata": {},
   "source": [
    "### POS TAGS REFERENCE\n",
    "\n",
    "| Tag | Description |\n",
    "| --- | ----------- |\n",
    "| CC | coordinating conjunction |\n",
    "| CD | cardinal digit |\n",
    "| DT | determiner |\n",
    "| EX | existential there | \n",
    "| FW | foreign word |\n",
    "| IN | preposition/subordinating conjunction |\n",
    "| JJ | adjective |\n",
    "| JJR |  adjective, comparative | \n",
    "| JJS |  adjective, superlative |\n",
    "| LS | list marker |\n",
    "| MD | modal |\n",
    "| NN | noun, singular | \n",
    "| NNS | noun plural |\n",
    "| NNP | proper noun, singular | \n",
    "| NNPS | proper noun, plural |\n",
    "| PDT | predeterminer |\n",
    "| POS | possessive ending | \n",
    "| PRP | personal pronoun |\n",
    "| RB | adverb |\n",
    "| RBR | adverb, comparative | \n",
    "| RBS | adverb, superlative |\n",
    "| RP | particle |\n",
    "| TO | to |\n",
    "| UH | interjection |\n",
    "| VB | verb, base form |\n",
    "| VBD | verb, past tense |\n",
    "| VBG | verb, gerund/present participle | \n",
    "| VBN | verb, past participle |\n",
    "| VBP | verb, sing. present, non-3d | \n",
    "| VBZ | verb, 3rd person sing. present | \n",
    "| WDT | wh-determiner |\n",
    "| WP | wh-pronoun |\n",
    "| WP$ | possessive wh-pronoun |\n",
    "| WRB | wh-abverb |"
   ]
  },
  {
   "cell_type": "markdown",
   "metadata": {},
   "source": [
    "## POS TAGGING USING SPACY"
   ]
  },
  {
   "cell_type": "code",
   "execution_count": 27,
   "metadata": {},
   "outputs": [
    {
     "name": "stdout",
     "output_type": "stream",
     "text": [
      "Hello INTJ\n",
      "Everyone PRON\n",
      ". PUNCT\n",
      "Welcome INTJ\n",
      "to ADP\n",
      "Ineuron PROPN\n",
      "NLP PROPN\n",
      ". PUNCT\n",
      "How SCONJ\n",
      "are AUX\n",
      "you PRON\n",
      "? PUNCT\n"
     ]
    }
   ],
   "source": [
    "# pos tagging using spacy\n",
    "import spacy\n",
    "from spacy.lang.en import English\n",
    "nlp = spacy.load('en_core_web_sm')\n",
    "doc = nlp(\"Hello Everyone. Welcome to Ineuron NLP. How are you?\")\n",
    "for token in doc:\n",
    "    print(token.text, token.pos_)"
   ]
  },
  {
   "cell_type": "code",
   "execution_count": null,
   "metadata": {},
   "outputs": [],
   "source": []
  },
  {
   "cell_type": "markdown",
   "metadata": {},
   "source": [
    "# CHUNKING USING NLTK AND SPACY"
   ]
  },
  {
   "cell_type": "markdown",
   "metadata": {},
   "source": [
    "## CHUNKING"
   ]
  },
  {
   "cell_type": "markdown",
   "metadata": {},
   "source": [
    "Chunking is the process of extracting phrases from the Unstructured text and give them more structure to it. We also called them shallow parsing.We can do it on top of pos tagging. It groups words into chunks mainly for noun phrases. chunking we do by using regular expression. "
   ]
  },
  {
   "cell_type": "markdown",
   "metadata": {},
   "source": [
    "## CHUNKING using NLTK"
   ]
  },
  {
   "cell_type": "code",
   "execution_count": 28,
   "metadata": {},
   "outputs": [
    {
     "name": "stdout",
     "output_type": "stream",
     "text": [
      "(S\n",
      "  (NP the/DT little/JJ red/JJ parrot/NN)\n",
      "  is/VBZ\n",
      "  flying/VBG\n",
      "  in/IN\n",
      "  (NP the/DT sky/NN))\n",
      "(NP the/DT little/JJ red/JJ parrot/NN)\n",
      "(NP the/DT sky/NN)\n"
     ]
    }
   ],
   "source": [
    "#importing libraries\n",
    "from nltk.tokenize import word_tokenize  \n",
    "from nltk import pos_tag \n",
    "  \n",
    "# here we define chunking function with text and regular \n",
    "# expressions representing grammar as parameter \n",
    "def chunking(text, grammar): \n",
    "    word_tokens = word_tokenize(text) \n",
    "  \n",
    "    # label words with pos \n",
    "    word_pos = pos_tag(word_tokens) \n",
    "  \n",
    "    # create chunk parser using grammar \n",
    "    chunkParser = nltk.RegexpParser(grammar) \n",
    "  \n",
    "    # test it on the list of word tokens with tagged pos \n",
    "    tree = chunkParser.parse(word_pos) \n",
    "      \n",
    "    for subtree in tree.subtrees(): \n",
    "        print(subtree) \n",
    "sentence = 'the little red parrot is flying in the sky'\n",
    "grammar = \"NP: {<DT>?<JJ>*<NN>}\"\n",
    "chunking(sentence, grammar) "
   ]
  },
  {
   "cell_type": "markdown",
   "metadata": {},
   "source": [
    "## CHUNKING using SPACY"
   ]
  },
  {
   "cell_type": "code",
   "execution_count": 36,
   "metadata": {},
   "outputs": [
    {
     "name": "stdout",
     "output_type": "stream",
     "text": [
      "Ineuron NLP NLP pobj\n",
      "you you nsubj\n"
     ]
    }
   ],
   "source": [
    "## chunking using spacy\n",
    "import spacy\n",
    "from spacy.lang.en import English\n",
    "nlp = spacy.load('en_core_web_sm')\n",
    "doc = nlp(\"Hello Everyone. Welcome to Ineuron NLP. How are you?\")\n",
    "for chunk in doc.noun_chunks:\n",
    "    print(chunk.text, chunk.root.text, chunk.root.dep_)"
   ]
  },
  {
   "cell_type": "markdown",
   "metadata": {},
   "source": [
    "# NAME ENTITY RECOGNITION USING NLTK AND SPACY"
   ]
  },
  {
   "cell_type": "markdown",
   "metadata": {},
   "source": [
    "## NER "
   ]
  },
  {
   "cell_type": "markdown",
   "metadata": {},
   "source": [
    "Named Entity Recognition is the process of identifying the entities in a text. The entities are the names of people, places, organizations, and so on. The entities are identified using the rules of grammar. Mostly the enities will be nouns such as Sudhanshu, Ineuron, etc.\n",
    "\n",
    "<figure>\n",
    "<img src= \"./res/03_2_NER.png\" style=\"width:100%\">\n",
    "<figcaption align = \"center\"><b>Fig.3 - NER example</b></figcaption>\n",
    "</figure>"
   ]
  },
  {
   "cell_type": "markdown",
   "metadata": {},
   "source": [
    "## NER USING NLTK"
   ]
  },
  {
   "cell_type": "code",
   "execution_count": 31,
   "metadata": {},
   "outputs": [
    {
     "name": "stderr",
     "output_type": "stream",
     "text": [
      "[nltk_data] Downloading package maxent_ne_chunker to\n",
      "[nltk_data]     C:\\Users\\Admin\\AppData\\Roaming\\nltk_data...\n"
     ]
    },
    {
     "name": "stdout",
     "output_type": "stream",
     "text": [
      "(S\n",
      "  (PERSON Hello/NNP)\n",
      "  Everyone/NNP\n",
      "  ./.\n",
      "  Welcome/NNP\n",
      "  to/TO\n",
      "  (PERSON Ineuron/NNP NLP/NNP)\n",
      "  ./.\n",
      "  How/WRB\n",
      "  are/VBP\n",
      "  you/PRP\n",
      "  ?/.)\n"
     ]
    },
    {
     "name": "stderr",
     "output_type": "stream",
     "text": [
      "[nltk_data]   Package maxent_ne_chunker is already up-to-date!\n",
      "[nltk_data] Downloading package words to\n",
      "[nltk_data]     C:\\Users\\Admin\\AppData\\Roaming\\nltk_data...\n",
      "[nltk_data]   Package words is already up-to-date!\n"
     ]
    }
   ],
   "source": [
    "from nltk.tokenize import word_tokenize \n",
    "from nltk import pos_tag, ne_chunk \n",
    "nltk.download('maxent_ne_chunker')\n",
    "nltk.download('words')\n",
    "def ner(text): \n",
    "    # tokenize the text \n",
    "    word_tokens = word_tokenize(text) \n",
    "    # pos tagging of words \n",
    "    word_pos = pos_tag(word_tokens) \n",
    "    # tree of word entities \n",
    "    print(ne_chunk(word_pos)) \n",
    "text = \"Hello Everyone. Welcome to Ineuron NLP. How are you?\"\n",
    "ner(text) "
   ]
  },
  {
   "cell_type": "markdown",
   "metadata": {},
   "source": [
    "## NER USING SPACY"
   ]
  },
  {
   "cell_type": "code",
   "execution_count": 35,
   "metadata": {},
   "outputs": [
    {
     "name": "stdout",
     "output_type": "stream",
     "text": [
      "[('Ineuron', 'ORG')]\n"
     ]
    },
    {
     "data": {
      "text/html": [
       "<span class=\"tex2jax_ignore\"><div class=\"entities\" style=\"line-height: 2.5; direction: ltr\">Hello Everyone. Welcome to \n",
       "<mark class=\"entity\" style=\"background: #7aecec; padding: 0.45em 0.6em; margin: 0 0.25em; line-height: 1; border-radius: 0.35em;\">\n",
       "    Ineuron\n",
       "    <span style=\"font-size: 0.8em; font-weight: bold; line-height: 1; border-radius: 0.35em; vertical-align: middle; margin-left: 0.5rem\">ORG</span>\n",
       "</mark>\n",
       " NLP. How are you?</div></span>"
      ],
      "text/plain": [
       "<IPython.core.display.HTML object>"
      ]
     },
     "metadata": {},
     "output_type": "display_data"
    }
   ],
   "source": [
    "import spacy\n",
    "from spacy import displacy\n",
    "from collections import Counter\n",
    "nlp = spacy.load(\"en_core_web_sm\")\n",
    "doc = nlp(\"Hello Everyone. Welcome to Ineuron NLP. How are you?\")\n",
    "print([(X.text, X.label_) for X in doc.ents])\n",
    "displacy.render(doc, style=\"ent\")"
   ]
  }
 ],
 "metadata": {
  "interpreter": {
   "hash": "0a4c405f7b19c67e69fc537e9a27167c07b8f40ee97c772a3e7b168555347c6c"
  },
  "kernelspec": {
   "display_name": "Python 3.6.13 ('oneneuronnlp')",
   "language": "python",
   "name": "python3"
  },
  "language_info": {
   "codemirror_mode": {
    "name": "ipython",
    "version": 3
   },
   "file_extension": ".py",
   "mimetype": "text/x-python",
   "name": "python",
   "nbconvert_exporter": "python",
   "pygments_lexer": "ipython3",
   "version": "3.8.13"
  },
  "orig_nbformat": 4
 },
 "nbformat": 4,
 "nbformat_minor": 2
}
