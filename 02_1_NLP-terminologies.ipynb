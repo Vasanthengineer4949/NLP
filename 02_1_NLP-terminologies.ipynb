{
 "cells": [
  {
   "cell_type": "markdown",
   "metadata": {},
   "source": [
    "# NLP TERMINOLOGIES"
   ]
  },
  {
   "cell_type": "markdown",
   "metadata": {},
   "source": [
    "## MORPHOLOGY AND DIVERSITY"
   ]
  },
  {
   "cell_type": "markdown",
   "metadata": {},
   "source": [
    "**Morphology:**\n",
    "\n",
    "Morphology is the study of the internal structure of a word or words. It concerns on how the components inside a word is arranged or modified to create a new word.\n",
    "\n",
    "***For eg: student with suffix -s becomes students that is plural.***"
   ]
  },
  {
   "cell_type": "markdown",
   "metadata": {},
   "source": [
    "**Diversity:**\n",
    "\n",
    "Diversity in language is used to describe the different languages spoken around the world and the different dialects of the same language that are spoken in different regions.\n",
    "\n",
    "***For eg: English, Tamil - Different languages, but in Tamil itself there are various dialects spoken in the state***"
   ]
  },
  {
   "cell_type": "markdown",
   "metadata": {},
   "source": [
    "## AMBIGUITY AND PARADIGMS"
   ]
  },
  {
   "cell_type": "markdown",
   "metadata": {},
   "source": [
    "**Ambiguity:**\n",
    "\n",
    "If a word or a phrase or a sentence can mean different things at different circumstances then it is said to be ambiguous.\n",
    "\n",
    "***For eg: break can mean different things like break the window or I need a break.***"
   ]
  },
  {
   "cell_type": "markdown",
   "metadata": {},
   "source": [
    "**Paradigms:**\n",
    "\n",
    "There are two main paradigms in NLP:\n",
    "- Knowledge-based\n",
    "- Statistical/Learning-based\n",
    "\n",
    "**Knowledge-based:**\n",
    "In this paradigm, the linguistic knowledge is manually encoded in the form of rules and grammars.\n",
    "\n",
    "**Statistical/Learning-based:**\n",
    "In this paradigm, the linguistic knowledge is learned from the data automatically using statistical or machine learning techniques."
   ]
  },
  {
   "cell_type": "markdown",
   "metadata": {},
   "source": [
    "## STRUCTURE AND MEANINGS"
   ]
  },
  {
   "cell_type": "markdown",
   "metadata": {},
   "source": [
    "**Structure:**\n",
    "\n",
    "The syntactic structure of a sentence is the arrangement of words and phrases in a sentence. This structure comprises of five main parts. They are:\n",
    "- phonemes \n",
    "- morphemes\n",
    "- lexemes\n",
    "- syntax\n",
    "- and context"
   ]
  },
  {
   "cell_type": "markdown",
   "metadata": {},
   "source": [
    "**Meanings:**\n",
    "\n",
    "The meaning refers to the context part of the structure's syntax. When a sentence is parsed, the meaning of the sentence is determined by the context.\n",
    "\n",
    "**For eg: Ineuron is an EdTech Company in India. Here we by parsing the sentence we can understand the fact that Ineuron is an Edtech type of company that is based in India**"
   ]
  },
  {
   "cell_type": "markdown",
   "metadata": {},
   "source": [
    "## LEXICAL KNOWLEDGE NETWORKS, METAPHORS AND CO-REFERENCES"
   ]
  },
  {
   "cell_type": "markdown",
   "metadata": {},
   "source": [
    "**Lexical knowledge network:**\n",
    "\n",
    "Lexical knowlege network is a collection of words in the form of a graph/network that are used to find useful relations among the words. It shows rich associations between words. It provides information like dictionary or thesaurus. By this network we can get a sense of the sentence and its meaning.\n",
    "\n",
    "**For eg: WordNet**"
   ]
  },
  {
   "cell_type": "markdown",
   "metadata": {},
   "source": [
    "**Metaphors:**\n",
    "\n",
    "Metaphors are words/sentences that are used to represent other words/sentences. To express an emotion or their idea in a sentence we can use an example which is a metaphor.\n",
    "\n",
    "***For eg: To express that you are in stress, you can use the metaphor \"I am feeling like being in a pressure cooker. Here the pressure inside the pressure cooker is used to represent that you are in stress\"***\n",
    "\n",
    "\n"
   ]
  },
  {
   "cell_type": "markdown",
   "metadata": {},
   "source": [
    "**Co-references:**\n",
    "\n",
    "Co-references are words that refers to the same entity at different parts of the sentences or different sentences.\n",
    "\n",
    "***For eg: Ineuron is an EdTech company. It is India. Here \"It\" refers to \"Ineuron\".***"
   ]
  },
  {
   "cell_type": "markdown",
   "metadata": {},
   "source": [
    "##  POLYSEMY AND HOMONYMY"
   ]
  },
  {
   "cell_type": "markdown",
   "metadata": {},
   "source": [
    "**Polysemy:**\n",
    "\n",
    "Polysemy is a word or phrase that has multiple meanings that are related to each other but same spellings.\n",
    "\n",
    "***For eg: Bank has two meanings: financial institution and to rely or belive.***"
   ]
  },
  {
   "cell_type": "markdown",
   "metadata": {},
   "source": [
    "**Homonymy:**\n",
    "\n",
    "Homonymy is a word or phrase that has multiple meanings that are unrelated to each other but same spellings.\n",
    "\n",
    "***For eg: Bat has various meanings: nocturnal animal, baseball or cricket bat***"
   ]
  },
  {
   "cell_type": "markdown",
   "metadata": {},
   "source": [
    "## CO-REFENCE, CATAPHORA AND ANAPHORA RESOLUTION"
   ]
  },
  {
   "cell_type": "markdown",
   "metadata": {},
   "source": [
    "**Co-reference resolution:**\n",
    "\n",
    "Co-reference resolution is the task of finding all expressions(words or phrases) that refers a particular entity in the given text. In other words the process of finding a co-reference is called co-reference resolution.\n",
    "\n",
    "***For eg: Ineuron is an EdTech company. It is in India. Here it refers to Ineuron***\n",
    "\n",
    "<figure>\n",
    "<img src= \"./res/02_2_Coreference_resolution.png\" style=\"width:100%\">\n",
    "<figcaption align = \"center\"><b>Fig.1 - Co-reference resolution</b></figcaption>\n",
    "</figure>"
   ]
  },
  {
   "cell_type": "markdown",
   "metadata": {},
   "source": [
    "**Anaphora resolution:**\n",
    "\n",
    "Anaphora is the use of an expression to refer the item which is already in the text. The process of finding anaphora is called Anaphora resoultion. Mostly this refers to pronoun resolution.\n",
    "\n",
    "***For eg: Ineuron is an EdTech company. It is in India. Here it refers to \"Ineuron\"***"
   ]
  },
  {
   "cell_type": "markdown",
   "metadata": {},
   "source": [
    "**Cataphora resolution:**\n",
    "\n",
    "Cataphora is the opposite of anaphora. It is the use of an expression to refer the item which is in the later part of thext. The process of finding cataphora is called cataphora resolution.\n",
    "\n",
    "***For eg: When he started teaching, Sudhanshu Kumar found an inspiration for an Ed-Tech company called Ineuron***"
   ]
  },
  {
   "cell_type": "markdown",
   "metadata": {},
   "source": [
    "## CO-OCCURENCE MATRIX"
   ]
  },
  {
   "cell_type": "markdown",
   "metadata": {},
   "source": [
    "**Co-occurrence Matrix:**\n",
    "\n",
    "Co-occurence matrix is a matrix that shows the co-occurrence of words in a text. Co-occurence of a pair of words is the number of times it has appeared in the Context Window(Specified with the number and direction by the user). This Co-occurence matrix is used in generating embedding using TF-IDF.\n",
    "\n",
    "| counts | I | like | NLP |\n",
    "|--------|---|------|-----|\n",
    "| I | 0 | 2 | 0 |\n",
    "| like | 2 | 0 | 1 |\n",
    "| NLP | 0 | 1 | 0 |"
   ]
  },
  {
   "cell_type": "markdown",
   "metadata": {},
   "source": [
    "## KNOWLEDGE GRAPHS"
   ]
  },
  {
   "cell_type": "markdown",
   "metadata": {},
   "source": [
    "**Knowledge Graph:**\n",
    "\n",
    "Knowledge Graph is a way to store the data we got after we perform some analysis and extract information from the data. The basic implementations of a knowledge graph use a triple that is a set of three elements(subject, predicate, object). It consists of nodes and leaves."
   ]
  },
  {
   "cell_type": "markdown",
   "metadata": {},
   "source": [
    "## DISTRIBUTIONAL SEMANTICS"
   ]
  },
  {
   "cell_type": "markdown",
   "metadata": {},
   "source": [
    "**Distributional Semantics:**\n",
    "\n",
    "It is a statistical approach concerns using the contexts of occurrence of words and determines the similarity between two words given this information. A word is represented as a vector of values, usually as frequency(occurence count) values, from a corpus and each dimension of the vector represents a particular context. Distributional semantics uses these vectors and calculates a similarity score designed to measure the similarity between the vectors. To measure semantic similarity usually cosine distance is used called cosine similarity.\n",
    "\n",
    "It can be used in various NLP tasks such as sentence similarity, translation etc..."
   ]
  },
  {
   "cell_type": "markdown",
   "metadata": {},
   "source": [
    "## COMPUTATIONAL LINGUISTICS"
   ]
  },
  {
   "cell_type": "markdown",
   "metadata": {},
   "source": [
    "**Computational Linguistics:**\n",
    "\n",
    "Computational linguistics is a branch of linguistics that deals with applying the computer science techniques to analyse and synthesize natural language and speech"
   ]
  },
  {
   "cell_type": "markdown",
   "metadata": {},
   "source": [
    "# WORDSIM353 DATASET - SIMILARITY AND RELATEDNESS"
   ]
  },
  {
   "cell_type": "markdown",
   "metadata": {},
   "source": [
    "**WordSim353 Dataset:**\n",
    "\n",
    "WordSim353 is a test collection for measuring word similarity or relatedness, developed and maintained by E. Gabrilovich."
   ]
  },
  {
   "cell_type": "markdown",
   "metadata": {},
   "source": [
    "**Relatedness:**\n",
    "\n",
    "Relatedness includes many kinds of relations, but generally shows how associated two concepts are with each other.\n",
    "\n",
    "***For eg: Sudhanshu Kumar is the founder and CEO of Ineuron. Here Ineuron and Sudhanshu Kumar are related by his job position***"
   ]
  },
  {
   "cell_type": "markdown",
   "metadata": {},
   "source": [
    "**Similarity:**\n",
    "\n",
    "It is specific relation that is a subset of relatedness which works based on is-a hierarchial graph\n",
    "\n",
    "***For eg: Ineuron is an EdTech company. It is a well-funded startup in India. Here \"Ineuron\" is under the hierachy of \"well-funded startup in India\"***"
   ]
  },
  {
   "cell_type": "markdown",
   "metadata": {},
   "source": []
  }
 ],
 "metadata": {
  "interpreter": {
   "hash": "0a4c405f7b19c67e69fc537e9a27167c07b8f40ee97c772a3e7b168555347c6c"
  },
  "kernelspec": {
   "display_name": "Python 3.6.13 ('oneneuronnlp')",
   "language": "python",
   "name": "python3"
  },
  "language_info": {
   "codemirror_mode": {
    "name": "ipython",
    "version": 3
   },
   "file_extension": ".py",
   "mimetype": "text/x-python",
   "name": "python",
   "nbconvert_exporter": "python",
   "pygments_lexer": "ipython3",
   "version": "3.8.13"
  },
  "orig_nbformat": 4
 },
 "nbformat": 4,
 "nbformat_minor": 2
}
