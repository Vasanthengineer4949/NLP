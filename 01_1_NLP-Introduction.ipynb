{
 "cells": [
  {
   "cell_type": "markdown",
   "metadata": {},
   "source": [
    "# NLP OVERVIEW"
   ]
  },
  {
   "cell_type": "markdown",
   "metadata": {},
   "source": [
    "## INTRODUCTION TO NLP"
   ]
  },
  {
   "cell_type": "markdown",
   "metadata": {},
   "source": [
    "- NLP is the abbreviation for Natural Language Processing. It is a branch of computer science specifically artificial intelligence which aims on giving the ability of understanding text or speech to computer where this text or speech will be in the form on Natural Languages such as Tamil, English, Hindi, etc...\n",
    "\n",
    "- It combines computational linguistics which is rule based modeling for human languages with statistical or ML or DL models\n"
   ]
  },
  {
   "cell_type": "markdown",
   "metadata": {},
   "source": [
    "## WHY USE NLP\n"
   ]
  },
  {
   "cell_type": "markdown",
   "metadata": {},
   "source": [
    "### It is used to work with high volumes of text and speech data:\n",
    "\n",
    "There are lots of unstructured raw data such as speech or text data is generated everyday.\n",
    "These data can be processed and analyzed by machines that are harnessed with the power of NLP.\n",
    "These machines can analyze and learn from the data faster than humans in a more efficient way without any weariness. By this we can get lots and lots of information in our day to day life which enhances our efficiency, productivity and luxury.\n",
    "\n",
    "### Structuring the unstructured data:\n",
    "\n",
    "Human languages (Natural Languages) are not easy to understand and are very diverse in\n",
    "nature because of various dialects that are spoken by different people in different regions. Because of this diversity it has also led to generation of lots of unstructured data in different languages. So it is essential to structure this unstructured data. By using NLP techniques that are moving towards NLU we can structure the data without changing the semantic meaning of the data. For eg: We can remove unnecessary punctuations, stopwords, and other unnecessary words from the data such as fillers. It can be a tiring process at times to maintain the semantic meaning. So at that time we can use the power of Supervised Machine Learning techniques and Unsupervised Machine Learning techniques and mainly Deep Learning techniques to structure the data."
   ]
  },
  {
   "cell_type": "markdown",
   "metadata": {},
   "source": [
    "## DIFFERENT TASKS IN NLP"
   ]
  },
  {
   "cell_type": "markdown",
   "metadata": {},
   "source": [
    "There are different types of tasks available in NLP such as:\n",
    "* Text Classification\n",
    "* Named Entity Recognition\n",
    "* Part of Speech Tagging\n",
    "* Translation\n",
    "* Text Summarization\n",
    "* Text Generation, etc...\n",
    "\n",
    "### TEXT CLASSIFICATION\n",
    "Text classification is the task of classifying text into different categories.\n",
    "\n",
    "**For eg: If there is a news dataset then we can classify the news into different categories such as sports, business, global, etc..**\n",
    "\n",
    "### NAMED ENTITY RECOGNITION\n",
    "Named entity recognition is the task of identifying the entities in the text such as person, location, organization, etc...\n",
    "\n",
    "**For eg: If there is a news dataset then we can identify the entities in the news such as Donald Trump, New York, etc..**\n",
    "\n",
    "### PART OF SPEECH TAGGING\n",
    "Part of speech tagging is the task of identifying the parts of speech in the text such as noun, verb, adjective, etc...\n",
    "\n",
    "**For eg: If there is a news dataset then we can identify the parts of speech in the news such as Trump - noun, is - verb, etc..**\n",
    "\n",
    "### TRANSLATION\n",
    "Translation is the task of converting one language to another language.\n",
    "\n",
    "**For eg: If there is a news dataset then we can translate the news into different languages such as English into Tamil, Hindi, etc..**\n",
    "\n",
    "### TEXT SUMMARIZATION\n",
    "Text summarization is the task of summarizing large volumes of text into a shorter volume without affecting the context of the passage.\n",
    "\n",
    "**For eg:  News headline generation from a large volume of news.**\n",
    "\n",
    "### TEXT GENERATION\n",
    "Text generation is the task of generating text from a given text.\n",
    "**For eg:  Generating a large volume of news from a headline**"
   ]
  },
  {
   "cell_type": "markdown",
   "metadata": {},
   "source": [
    "## APPLICATIONS OF NLP"
   ]
  },
  {
   "cell_type": "markdown",
   "metadata": {},
   "source": [
    "Some of the real world applications of NLP are:\n",
    "* Summarized News\n",
    "* MCQ Generator\n",
    "* Translators such as Google Translators\n",
    "* Chatbot\n",
    "* Plagiarism Detection and many more\n",
    "\n",
    "So NLP is used in our daily life in a direct or an indirect way\n",
    "\n",
    "<figure>\n",
    "<img src= \"./res/01_1_1-nlp_intro.jpg\" style=\"width:100%\">\n",
    "<figcaption align = \"center\"><b>Fig.1 - Chatbot - A Real World NLP Application</b></figcaption>\n",
    "</figure>"
   ]
  },
  {
   "cell_type": "markdown",
   "metadata": {},
   "source": []
  }
 ],
 "metadata": {
  "interpreter": {
   "hash": "0a4c405f7b19c67e69fc537e9a27167c07b8f40ee97c772a3e7b168555347c6c"
  },
  "kernelspec": {
   "display_name": "Python 3",
   "language": "python",
   "name": "python3"
  },
  "language_info": {
   "codemirror_mode": {
    "name": "ipython",
    "version": 3
   },
   "file_extension": ".py",
   "mimetype": "text/x-python",
   "name": "python",
   "nbconvert_exporter": "python",
   "pygments_lexer": "ipython3",
   "version": "3.6.13"
  }
 },
 "nbformat": 4,
 "nbformat_minor": 2
}
